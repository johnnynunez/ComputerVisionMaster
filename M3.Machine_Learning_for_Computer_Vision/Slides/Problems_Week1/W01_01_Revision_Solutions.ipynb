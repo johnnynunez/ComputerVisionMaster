{
 "cells": [
  {
   "cell_type": "markdown",
   "metadata": {},
   "source": [
    "# Week 1 - Revision"
   ]
  },
  {
   "cell_type": "markdown",
   "metadata": {},
   "source": [
    "## 1.1 Linear Regression\n",
    "\n",
    "During the lecture we used a running example of house prices. This dataset is known as the \"house prices\" dataset. The task to be done is to predict the price of a house given some 'features' of the house. Our input data comprises two features per sample (size of the house, and number of rooms), while the output data is the price of each sample.\n",
    "\n",
    "Here is the data:\n",
    "\n",
    "| Size (square feet) | Rooms | Price (USD) |Size (square feet) | Rooms | Price (USD) |Size (square feet) | Rooms | Price (USD) |Size (square feet) | Rooms | Price (USD) |\n",
    "|:------ |:----|:----------|:------ |:----|:----------|:------ |:----|:----------|:------ |:----|:----------|\n",
    "| 2104.0 | 3.0 |  **399900.0** | 1890.0 | 3.0 |  **329999.0** | 3890.0 | 3.0 |  **573900.0** | 1239.0 | 3.0 |  **229900.0** |\n",
    "| 1600.0 | 3.0 |  **329900.0** | 4478.0 | 5.0 |  **699900.0** | 1100.0 | 3.0 |  **249900.0** | 2132.0 | 4.0 |  **345000.0** |\n",
    "| 2400.0 | 3.0 |  **369000.0** | 1268.0 | 3.0 |  **259900.0** | 1458.0 | 3.0 |  **464500.0** | 4215.0 | 4.0 |  **549000.0** | \n",
    "| 1416.0 | 2.0 |  **232000.0** | 2300.0 | 4.0 |  **449900.0** | 2526.0 | 3.0 |  **469000.0** | 2162.0 | 4.0 |  **287000.0** |\n",
    "| 3000.0 | 4.0 |  **539900.0** | 1320.0 | 2.0 |  **299900.0** | 2200.0 | 3.0 |  **475000.0** | 1664.0 | 2.0 |  **368500.0** | \n",
    "| 1985.0 | 4.0 |  **299900.0** | 1236.0 | 3.0 |  **199900.0** | 2637.0 | 3.0 |  **299900.0** | 2238.0 | 3.0 |  **329900.0** | \n",
    "| 1534.0 | 3.0 |  **314900.0** | 2609.0 | 4.0 |  **499998.0** | 1839.0 | 2.0 |  **349900.0** | 2567.0 | 4.0 |  **314000.0** | \n",
    "| 1427.0 | 3.0 |  **198999.0** | 3031.0 | 4.0 |  **599000.0** | 1000.0 | 1.0 |  **169900.0** | 1200.0 | 3.0 |  **299000.0** | \n",
    "| 1380.0 | 3.0 |  **212000.0** | 1767.0 | 3.0 |  **252900.0** | 2040.0 | 4.0 |  **314900.0** | 852.0  | 2.0 |  **179900.0** | \n",
    "| 1494.0 | 3.0 |  **242500.0** | 1888.0 | 2.0 |  **255000.0** | 3137.0 | 3.0 |  **579900.0** | 1852.0 | 4.0 |  **299900.0** | \n",
    "| 1940.0 | 4.0 |  **239999.0** | 1604.0 | 3.0 |  **242900.0** | 1811.0 | 4.0 |  **285900.0** | 1203.0 | 3.0 |  **239500.0** | \n",
    "| 2000.0 | 3.0 |  **347000.0** | 1962.0 | 4.0 |  **259900.0** | 1437.0 | 3.0 |  **249900.0** | \n",
    "\n",
    "\n",
    "Let's first get them into Python. For simplification we are going to use only one feature for the time being - the size of the house."
   ]
  },
  {
   "cell_type": "code",
   "execution_count": 1,
   "metadata": {},
   "outputs": [],
   "source": [
    "import numpy as np\n",
    "import matplotlib.pyplot as plt"
   ]
  },
  {
   "cell_type": "code",
   "execution_count": 2,
   "metadata": {},
   "outputs": [],
   "source": [
    "size = np.array([2104., 1600., 2400., 1416., 3000., 1985., 1534., 1427., 1380., \n",
    "       1494., 1940., 2000., 1890., 4478., 1268., 2300., 1320., 1236.,\n",
    "       2609., 3031., 1767., 1888., 1604., 1962., 3890., 1100., 1458.,\n",
    "       2526., 2200., 2637., 1839., 1000., 2040., 3137., 1811., 1437.,\n",
    "       1239., 2132., 4215., 2162., 1664., 2238., 2567., 1200.,  852.,\n",
    "       1852., 1203.])\n",
    "\n",
    "rooms = np.array([3., 3., 3., 2., 4., 4., 3., 3., 3., 3., 4., 3., 3., 5., 3., 4., 2.,\n",
    "       3., 4., 4., 3., 2., 3., 4., 3., 3., 3., 3., 3., 3., 2., 1., 4., 3.,\n",
    "       4., 3., 3., 4., 4., 4., 2., 3., 4., 3., 2., 4., 3.])\n",
    "\n",
    "price = np.array([399900., 329900., 369000., 232000., 539900., 299900., 314900.,\n",
    "       198999., 212000., 242500., 239999., 347000., 329999., 699900.,\n",
    "       259900., 449900., 299900., 199900., 499998., 599000., 252900.,\n",
    "       255000., 242900., 259900., 573900., 249900., 464500., 469000.,\n",
    "       475000., 299900., 349900., 169900., 314900., 579900., 285900.,\n",
    "       249900., 229900., 345000., 549000., 287000., 368500., 329900.,\n",
    "       314000., 299000., 179900., 299900., 239500.])"
   ]
  },
  {
   "cell_type": "markdown",
   "metadata": {},
   "source": [
    "First, let's see what we have"
   ]
  },
  {
   "cell_type": "code",
   "execution_count": 3,
   "metadata": {
    "collapsed": false,
    "jupyter": {
     "outputs_hidden": false
    }
   },
   "outputs": [
    {
     "name": "stdout",
     "output_type": "stream",
     "text": [
      "We have been given 47 samples\n"
     ]
    },
    {
     "data": {
      "image/png": "[encoded data removed]",
      "text/plain": [
       "<Figure size 432x288 with 1 Axes>"
      ]
     },
     "metadata": {
      "needs_background": "light"
     },
     "output_type": "display_data"
    }
   ],
   "source": [
    "m = len(size)\n",
    "print(\"We have been given {} samples\".format(m))\n",
    "\n",
    "# Plot sample points (price vs size)\n",
    "plt.plot(size, price, 'o')\n",
    "plt.title('House Prices')\n",
    "plt.xlabel('House Size (square feet)')\n",
    "plt.ylabel('House Price ($)')\n",
    "plt.show()"
   ]
  },
  {
   "cell_type": "markdown",
   "metadata": {},
   "source": [
    "We want to automatically find a model to predict prices $y$ for houses that are not in our dataset. In linear regression, the model $f$ is a linear function of the input data ($x$, in our case the house size):\n",
    "\n",
    "> $f_w(x) = w_0 + w_1 x$\n",
    "\n",
    "For this we need to choose the parameters $w_i$ minimizing a cost function $J$ e.g. the average squared difference between the predictions ($f_w$) and the real prices ($y$) in our training data:\n",
    "\n",
    "> $\\hat{w} = \\underset{w}{\\text{minimize}} {1 \\over 2m} \\sum_{i=1}^m{(f_w(x^{(i)}) - y^{(i)})^2}$\n",
    "\n",
    "where $(x^{(i)},y^{(i)})$ is the i-th training sample, and $m$ is the number of samples in our training set.\n",
    "\n",
    "This optimization problem can be solved in different ways, in this example we are going to implement the Gradient Descent algorithm. In pseudo-code the Gradient Descent algorithm is formalized as follows:\n",
    "\n",
    "repeat until convergence:\n",
    "\n",
    "> {\n",
    "> \n",
    "> $w_j := w_j - \\alpha \\frac{\\partial}{\\partial w_j} J(w)$ (for all j)\n",
    ">\n",
    "> }\n",
    "\n",
    "where $\\alpha$ is the learning rate, and the partial derivative (the gradient) of the cost function is given by (generic expression):\n",
    "\n",
    "> $\\frac{\\partial}{\\partial w_j} J(w) = {1 \\over m} \\sum_{i=1}^m{(f_w(x^{(i)}) - y^{(i)}) x_j^{(i)}}$\n",
    "\n",
    "In our case, the partial derivatives for $w_0$ and $w_1$ are:\n",
    "\n",
    "> $\\frac{\\partial}{\\partial w_0} J(w) = {1 \\over m} \\sum_{i=1}^m{(f_w(x^{(i)}) - y^{(i)})}$\n",
    "\n",
    "> $\\frac{\\partial}{\\partial w_1} J(w) = {1 \\over m} \\sum_{i=1}^m{(f_w(x^{(i)}) - y^{(i)}) x^{(i)}}$\n",
    "\n",
    "Let's see a first (very inefficient, but quite explicit) version of the Gradient Descent algorithm in Python:"
   ]
  },
  {
   "cell_type": "code",
   "execution_count": 4,
   "metadata": {},
   "outputs": [],
   "source": [
    "def GradientDescent(x, y, max_iterations=100, lr=0.01):\n",
    "    m = len(x) # number of samples\n",
    "    J = np.zeros(max_iterations)\n",
    "   \n",
    "    #initialize the parameters to zero (or any other random value)\n",
    "    w0 = 0\n",
    "    w1 = 0\n",
    "    \n",
    "    for it in range(max_iterations): #lets take a max of max_iteration steps updating the parameters\n",
    "        s0 = 0 # We will use this to calculate the sum of derivatives over the different samples\n",
    "        s1 = 0\n",
    "        for i in range(m): #Go over the points and calculate the sum\n",
    "            f = w0 + w1 * x[i]\n",
    "            s0 = s0 + (f - y[i])\n",
    "            s1 = s1 + (f - y[i])* x[i]\n",
    "            J[it] = J[it]+(f - y[i])**2\n",
    "        Grad0 = s0 / m # Now get the average\n",
    "        Grad1 = s1 / m \n",
    "        J[it] /= 2*m\n",
    "        \n",
    "        w0 = w0 - lr * Grad0\n",
    "        w1 = w1 - lr * Grad1\n",
    "        \n",
    "    return [w0, w1], J"
   ]
  },
  {
   "cell_type": "code",
   "execution_count": 5,
   "metadata": {},
   "outputs": [
    {
     "name": "stdout",
     "output_type": "stream",
     "text": [
      "Estimated weights: [0.08050805332714407, 163.9249033496211]\n"
     ]
    },
    {
     "data": {
      "image/png": "[encoded data removed]",
      "text/plain": [
       "<Figure size 432x288 with 1 Axes>"
      ]
     },
     "metadata": {
      "needs_background": "light"
     },
     "output_type": "display_data"
    }
   ],
   "source": [
    "# Run gradient descent on our data\n",
    "w, J = GradientDescent(x = size, y = price, max_iterations=100, lr=0.00000001)\n",
    "\n",
    "print(\"Estimated weights:\", w)\n",
    "plt.plot(np.arange(len(J)), J, 'bo')\n",
    "plt.show()"
   ]
  },
  {
   "cell_type": "markdown",
   "metadata": {},
   "source": [
    "<font color=blue>**Exercise:** Do a scatter plot of your data and a plot of the line you just estimated. </font>"
   ]
  },
  {
   "cell_type": "code",
   "execution_count": 8,
   "metadata": {},
   "outputs": [
    {
     "data": {
      "image/png": "[encoded data removed]",
      "text/plain": [
       "<Figure size 432x288 with 1 Axes>"
      ]
     },
     "metadata": {
      "needs_background": "light"
     },
     "output_type": "display_data"
    }
   ],
   "source": [
    "# Your Code Here #\n",
    "\n",
    "# Plot sample points.\n",
    "plt.plot(size, price,'o') # plot dots ('o') for each sample (house size, house price)\n",
    "plt.title('House Prices')\n",
    "plt.xlabel('House Size (normalized)')\n",
    "plt.ylabel('House Price ($)')\n",
    "\n",
    "# Plot line f = w0 + w1 * x\n",
    "xx = range(int(min(size)),int(max(size)))\n",
    "yy = [w[0] + w[1] * x for x in xx]\n",
    "plt.plot(xx,yy)\n",
    "plt.show()"
   ]
  },
  {
   "cell_type": "markdown",
   "metadata": {},
   "source": [
    "<br>\n",
    "\n",
    "<font color=blue>**Exercise:** Use the model you have calculated to predict the price of a house with `size = 3200` square feet.</font>"
   ]
  },
  {
   "cell_type": "code",
   "execution_count": 9,
   "metadata": {},
   "outputs": [
    {
     "name": "stdout",
     "output_type": "stream",
     "text": [
      "The price of a house with size = 3200 is: 524559.7712268408\n"
     ]
    }
   ],
   "source": [
    "# Your Code Here #\n",
    "\n",
    "hs = 3200\n",
    "hp = w[0] + w[1] * hs\n",
    "\n",
    "print(\"The price of a house with size = 3200 is:\", hp)"
   ]
  },
  {
   "cell_type": "markdown",
   "metadata": {},
   "source": [
    "<font color=blue>**Exercise:** Redo the model fitting using the gradient descent function with different initial values for the weights. What do you observe?</font>"
   ]
  },
  {
   "cell_type": "markdown",
   "metadata": {},
   "source": [
    "---\n",
    "\n",
    "*Answer*\n",
    "\n",
    "The second weight (the slope: $w_1$) converges to the same value every time, while the first weight (the intercept $w_0$) does not move away from the initial value that we set. It seems like the learning rate works for $w_1$ but not for $w_0$.\n",
    "\n",
    "---\n"
   ]
  },
  {
   "cell_type": "markdown",
   "metadata": {},
   "source": [
    "<br>\n",
    "\n",
    "There are existing implementations for linear regression available for Python. For example, using the sklearn module's implementation, it would be:"
   ]
  },
  {
   "cell_type": "code",
   "execution_count": 10,
   "metadata": {},
   "outputs": [
    {
     "name": "stdout",
     "output_type": "stream",
     "text": [
      "The estimated value of theta 0 (the intercept of the line) is: 71270.49244872906\n",
      "The estimated value of theta 1 (the slope) is: 134.52528772024135\n",
      "The estimated price for a house with size = 3200 using the model would be: [501751.4131535]\n"
     ]
    }
   ],
   "source": [
    "import numpy as np\n",
    "from sklearn.linear_model import LinearRegression\n",
    "\n",
    "x = np.array(size).reshape(-1, 1)\n",
    "y = price\n",
    "\n",
    "reg = LinearRegression().fit(x, y)\n",
    "\n",
    "print('The estimated value of theta 0 (the intercept of the line) is: {0}'.format(reg.intercept_))\n",
    "print('The estimated value of theta 1 (the slope) is: {0}'.format(reg.coef_[0]))\n",
    "\n",
    "print('The estimated price for a house with size = 3200 using the model would be: {0}'.format(reg.predict([[3200]])))"
   ]
  },
  {
   "cell_type": "markdown",
   "metadata": {},
   "source": [
    "<br>\n",
    "\n",
    "<font color=blue>**Exercise:** Have a look at the help pages for the `LinearRegression()` function of `sklearn`, as well as a read of the help page of the function [https://scikit-learn.org/stable/modules/generated/sklearn.linear_model.LinearRegression.html](https://scikit-learn.org/stable/modules/generated/sklearn.linear_model.LinearRegression.html) </font>"
   ]
  },
  {
   "cell_type": "markdown",
   "metadata": {},
   "source": [
    "<br>\n",
    "\n",
    "<font color=blue>**Food for thought:** The parameters that the sklearn model obtains seem to be quite different from what our model does... you could try a few more values in or outside the range of house sizes we have. Which model is better in your opinion? Why? Where does this difference come from?</font>"
   ]
  },
  {
   "cell_type": "code",
   "execution_count": 11,
   "metadata": {},
   "outputs": [
    {
     "name": "stdout",
     "output_type": "stream",
     "text": [
      "Predicted price (sklearn): 676634.2871898152\n",
      "Predicted price (ours)   : 744224.3713969392\n",
      "Predicted price (ours normalised)   : 676616.314836612\n"
     ]
    },
    {
     "data": {
      "image/png": "[encoded data removed]",
      "text/plain": [
       "<Figure size 432x288 with 1 Axes>"
      ]
     },
     "metadata": {
      "needs_background": "light"
     },
     "output_type": "display_data"
    }
   ],
   "source": [
    "# YOUR CODE HERE\n",
    "\n",
    "hs = 4500\n",
    "\n",
    "hp_sklearn = reg.intercept_ + reg.coef_[0]*hs\n",
    "print('Predicted price (sklearn): '+str(hp_sklearn))\n",
    "\n",
    "[w, J] = GradientDescent(size, price, max_iterations = 500, lr=0.00000001)\n",
    "hp_ours = w[0]+w[1]*hs\n",
    "print('Predicted price (ours)   : '+str(hp_ours))\n",
    "\n",
    "size_normalised = (size-size.mean())/size.std()\n",
    "hsn = (hs-size.mean())/size.std()\n",
    "[wn, J] = GradientDescent(size_normalised, price, max_iterations=100, lr=0.1)\n",
    "hp_ours_n = wn[0]+wn[1]*hsn\n",
    "print('Predicted price (ours normalised)   : '+str(hp_ours_n))\n",
    "\n",
    "# Plot sample points.\n",
    "plt.plot(size, price,'o') # plot dots ('o') for each sample (house size, house price)\n",
    "plt.title('House Prices')\n",
    "plt.xlabel('House Size (square feet)')\n",
    "plt.ylabel('House Price ($)')\n",
    "\n",
    "# Plot line y = w0 + w1 * x\n",
    "xx = range(int(min(size)),int(max(size)))\n",
    "yy = [w[0] + w[1] * x for x in xx]\n",
    "plt.plot(xx, yy, )\n",
    "\n",
    "yy = [reg.intercept_ + reg.coef_[0]* x for x in xx]\n",
    "plt.plot(xx, yy)\n",
    "\n",
    "plt.show()"
   ]
  },
  {
   "cell_type": "markdown",
   "metadata": {},
   "source": [
    "---\n",
    "\n",
    "*Answer*\n",
    "\n",
    "The reason for this mismatch is the fact that we did not normalise our features before we do gradient descent. This impedes our algorithm (which is absolutely correct) to find a good solution.\n",
    "\n",
    "---\n"
   ]
  },
  {
   "cell_type": "markdown",
   "metadata": {},
   "source": [
    "<font color=blue>**Exercise:** Now normalise your data and do the gradient descent again. Adjust the number of iterations and the learning rate as you see fit. What do you observe in terms of the learning rate required? What do you observe in terms of the final values obtained for the weights?</font>"
   ]
  },
  {
   "cell_type": "code",
   "execution_count": 12,
   "metadata": {},
   "outputs": [
    {
     "name": "stdout",
     "output_type": "stream",
     "text": [
      "Estimated weights: [340403.61773803073, 105761.32424947785]\n"
     ]
    },
    {
     "data": {
      "image/png": "[encoded data removed]",
      "text/plain": [
       "<Figure size 432x288 with 1 Axes>"
      ]
     },
     "metadata": {
      "needs_background": "light"
     },
     "output_type": "display_data"
    }
   ],
   "source": [
    "# Your Code Here #\n",
    "\n",
    "size_mean = np.mean(size)\n",
    "size_std = np.std(size)\n",
    "\n",
    "size_normalised = (size-size_mean)/size_std\n",
    "\n",
    "w, J = GradientDescent(x = size_normalised, y = price, max_iterations=100, lr=0.1)\n",
    "\n",
    "print(\"Estimated weights:\", w)\n",
    "plt.plot(np.arange(len(J)), J, 'bo')\n",
    "plt.show()"
   ]
  },
  {
   "cell_type": "markdown",
   "metadata": {},
   "source": [
    "---\n",
    "\n",
    "*Answer*\n",
    "\n",
    "The learning rate does not need to be so small anymore. We can now find a \"reasonable\" value for the learning rate.\n",
    "\n",
    "The initial value for $w_0$ is not so important anymore, the learning rate works for both weights.\n",
    "\n",
    "The weight values we obtain are very different than before (much larger)\n",
    "\n",
    "---"
   ]
  },
  {
   "cell_type": "markdown",
   "metadata": {},
   "source": [
    "## 1.2 Writing our Gradient Descent in a more efficient way, and Multiple regression"
   ]
  },
  {
   "cell_type": "markdown",
   "metadata": {},
   "source": [
    "We will rewrite the gradient descent function, vectorising our variables and most of our for loops and including a stopping criterion that checks for convergence. Have a look at the explanatory notebook if you cannot understand how the following line works:\n",
    "\n",
    "`grad = np.dot(X.T , (np.dot(X,theta) - y)) / m;`\n",
    "\n",
    "Where `X` is the input (the Design Matrix) `y` is the vector column of the output, and `w` is a vector column of the parameters."
   ]
  },
  {
   "cell_type": "code",
   "execution_count": 13,
   "metadata": {},
   "outputs": [],
   "source": [
    "def GradientDescent_np(X, y, max_iterations=10000, lr=0.1, epsilon = 0.000001):\n",
    "    m, n = X.shape # number of samples, number of features\n",
    "    J = []\n",
    "    \n",
    "    # y must be a column vector of shape m x 1\n",
    "    y = y.reshape(m, 1)\n",
    "\n",
    "    #initialize the weights to zero (or anything else you want, e.g. a small random value)\n",
    "    w = np.zeros(shape=(n, 1))\n",
    "    \n",
    "    # Repeat until convergence (or max_iterations)\n",
    "    for iteration in range(max_iterations):\n",
    "        grad = np.dot(X.T , (np.dot(X, w) - y)) / m;\n",
    "        w = w - lr*grad\n",
    "        J.append(sum( (np.dot(X, w) - y)**2) / m)\n",
    "        \n",
    "        # Stopping Criterion\n",
    "        if (iteration > 2) and ( abs(J[-2] - J[-1]) < epsilon):\n",
    "            print (\"Gradient Descent converged after {} iterations\".format(iteration))\n",
    "            break\n",
    "    return [w, np.array(J)]"
   ]
  },
  {
   "cell_type": "markdown",
   "metadata": {},
   "source": [
    "Let's use the new version of Gradient Descent to calculate the parameter values . In order to do so, we have to create our design matrix `X` and feed it to the function. As a reminder, the design matrix should have as many rows as samples and as many columns as features (including the \"fake\" $x_0$ feature of ones, that is multiplied with the bias term)."
   ]
  },
  {
   "cell_type": "code",
   "execution_count": 14,
   "metadata": {},
   "outputs": [
    {
     "name": "stdout",
     "output_type": "stream",
     "text": [
      "First few rows of our design matrix:\n",
      "[[1.000e+00 2.104e+03]\n",
      " [1.000e+00 1.600e+03]\n",
      " [1.000e+00 2.400e+03]\n",
      " [1.000e+00 1.416e+03]]\n",
      "First few rows of our normalised design matrix:\n",
      "[[ 1.          0.13000987]\n",
      " [ 1.         -0.50418984]\n",
      " [ 1.          0.50247636]\n",
      " [ 1.         -0.73572306]]\n",
      "Gradient Descent converged after 177 iterations\n",
      "Estimated weights: [[340412.65713569]\n",
      " [106907.56159506]]\n"
     ]
    },
    {
     "data": {
      "image/png": "[encoded data removed]",
      "text/plain": [
       "<Figure size 432x288 with 1 Axes>"
      ]
     },
     "metadata": {
      "needs_background": "light"
     },
     "output_type": "display_data"
    }
   ],
   "source": [
    "#prepare the design matrix, starting with a column of ones (this is the x_0 for the bias term), and concatenating the size feature\n",
    "X = np.hstack( (np.ones(shape=(size.shape[0], 1)), size.reshape(size.shape[0], 1)))\n",
    "\n",
    "#Let's print out a few samples to verify we have done this right\n",
    "print(\"First few rows of our design matrix:\")\n",
    "print(X[0:4, :])\n",
    "\n",
    "# Scale features and set them to zero mean (standarize)\n",
    "mu = X.mean(axis = 0) #calculate the mean for every column\n",
    "sigma = X.std(axis = 0, ddof=1) #calculate the standard deviation for every column\n",
    "\n",
    "#normalize only X1. Do not normalise X0 (the artificial first feature that we set to ones)\n",
    "X[:,1] = (X[:,1] - mu[1]) / sigma[1];\n",
    "\n",
    "#Let's print out a few samples to verify we have done this right\n",
    "print(\"First few rows of our normalised design matrix:\")\n",
    "print(X[0:4, :])\n",
    "\n",
    "w, J = GradientDescent_np(X, price, lr=0.1)\n",
    "print('Estimated weights:', w)\n",
    "\n",
    "plt.plot(np.arange(len(J)), J, 'bo')\n",
    "plt.show()"
   ]
  },
  {
   "cell_type": "markdown",
   "metadata": {},
   "source": [
    "<font color=blue>**Exercise:** Do the same, but this time using the rooms feature as well</font>"
   ]
  },
  {
   "cell_type": "code",
   "execution_count": 15,
   "metadata": {},
   "outputs": [
    {
     "name": "stdout",
     "output_type": "stream",
     "text": [
      "Gradient Descent converged after 363 iterations\n",
      "Estimated weights: [[340412.65957447]\n",
      " [110631.04383616]\n",
      " [ -6649.46782814]]\n"
     ]
    },
    {
     "data": {
      "image/png": "[encoded data removed]",
      "text/plain": [
       "<Figure size 432x288 with 1 Axes>"
      ]
     },
     "metadata": {
      "needs_background": "light"
     },
     "output_type": "display_data"
    }
   ],
   "source": [
    "# Your Code Here #\n",
    "\n",
    "#prepare the design matrix, starting with a column of ones (this is the x_0 for the bias term), \n",
    "#and concatenating the size and rooms features (you could also use the np.concatenate() function)\n",
    "X = np.hstack( (np.ones(shape=(size.shape[0], 1)), size.reshape(size.shape[0], 1), rooms.reshape(rooms.shape[0], 1)))\n",
    "\n",
    "# Scale features and set them to zero mean (standarize)\n",
    "mu = X.mean(axis = 0) #calculate the mean for every column\n",
    "sigma = X.std(axis = 0, ddof=1) #calculate the standard deviation for every column\n",
    "\n",
    "#normalize everything except X0 (the artificial first feature that we set to ones)\n",
    "X[:,1] = (X[:,1] - mu[1]) / sigma[1];\n",
    "X[:,2] = (X[:,2] - mu[2]) / sigma[2];\n",
    "\n",
    "w, J = GradientDescent_np(X, price, lr=0.1)\n",
    "print('Estimated weights:', w)\n",
    "\n",
    "plt.plot(np.arange(len(J)), J, 'bo')\n",
    "plt.show()"
   ]
  },
  {
   "cell_type": "markdown",
   "metadata": {},
   "source": [
    "## 1.3 Polynomial Regression\n",
    "\n",
    "Suppose you are given the following samples for a problem:"
   ]
  },
  {
   "cell_type": "code",
   "execution_count": 17,
   "metadata": {},
   "outputs": [
    {
     "name": "stdout",
     "output_type": "stream",
     "text": [
      "(47, 1)\n",
      "(47,)\n"
     ]
    }
   ],
   "source": [
    "# Load the Polynomial dataset\n",
    "import pickle\n",
    "\n",
    "with open('PolynomialData.pkl', 'rb') as f:\n",
    "    feat, out = pickle.load(f)\n",
    "\n",
    "print (x.shape)\n",
    "print (y.shape)"
   ]
  },
  {
   "cell_type": "markdown",
   "metadata": {},
   "source": [
    "Let's make a plot of the above samples"
   ]
  },
  {
   "cell_type": "code",
   "execution_count": 18,
   "metadata": {},
   "outputs": [
    {
     "data": {
      "image/png": "[encoded data removed]",
      "text/plain": [
       "<Figure size 432x288 with 1 Axes>"
      ]
     },
     "metadata": {
      "needs_background": "light"
     },
     "output_type": "display_data"
    }
   ],
   "source": [
    "plt.plot(feat, out, 'ro') # Plot the feature versus the output, using big red circles\n",
    "plt.show()"
   ]
  },
  {
   "cell_type": "markdown",
   "metadata": {},
   "source": [
    "In order to use the linear gradient descent above to fit a polynomial, what we have to do is generate new features, from the existing ones. For example we could generate a new feature $feat_2$ and calculate its values as the square of $feat$: $feat_2 = feat^2$.\n",
    "\n",
    "Similarly we could create more new features like:\n",
    "\n",
    "$feat_3 = feat^3$\n",
    "\n",
    "$feat_4 = feat^4$\n",
    "\n",
    "$...$\n",
    "\n",
    "Let's create such new features. We will first define a helper function for that, that generates and normalises features up to the desired degree."
   ]
  },
  {
   "cell_type": "code",
   "execution_count": 19,
   "metadata": {},
   "outputs": [],
   "source": [
    "def mapFeatureAndNormalise_Polynomial(x, degree = 6, preCalcMeans = None, preCalcStd = None):\n",
    "    '''\n",
    "    Maps a single 1D feature to polynomial features up to the degree given\n",
    "    Returns a new feature vector comprising of\n",
    "    1, x, x^2, x^3, ..., x^degree\n",
    "    '''\n",
    "    \n",
    "    x = x.reshape(-1, 1) #make into a vector if it has any other shape. The function size returns the number of elements in an array\n",
    "    \n",
    "    DesignMatrix = np.ones_like(x) # start with a column of ones\n",
    "    \n",
    "    for i in range(1, degree + 1):\n",
    "            c = x ** i\n",
    "            DesignMatrix = np.append(DesignMatrix, c, axis=1)\n",
    "\n",
    "    # Calculate means and standard deviation if not provided\n",
    "    if preCalcMeans is None:\n",
    "        mu = DesignMatrix.mean(axis = 0)\n",
    "    else:\n",
    "        mu = preCalcMeans\n",
    "        \n",
    "    if preCalcStd is None:\n",
    "        sigma = DesignMatrix.std(axis = 0, ddof=1)\n",
    "    else:\n",
    "        sigma = preCalcStd\n",
    "    \n",
    "    # Standardise\n",
    "    for i in range(1, degree + 1):\n",
    "        DesignMatrix[:,i] = (DesignMatrix[:,i] - mu[i]) / sigma[i]\n",
    "                \n",
    "    return DesignMatrix, mu, sigma"
   ]
  },
  {
   "cell_type": "markdown",
   "metadata": {},
   "source": [
    "Let's try it out, by creating new features up to degree `deg` out of our single feature `feat`. What we expect to get in the output is $deg+1$ features, as we are also counting the feature $x_0$"
   ]
  },
  {
   "cell_type": "code",
   "execution_count": 20,
   "metadata": {},
   "outputs": [
    {
     "name": "stdout",
     "output_type": "stream",
     "text": [
      "The shape of our design matrix is: (50, 7)\n",
      "The shape of mu (and sigma) is: (7,)\n"
     ]
    }
   ],
   "source": [
    "deg = 6\n",
    "X, mu, sigma = mapFeatureAndNormalise_Polynomial(feat, deg)\n",
    "\n",
    "print(\"The shape of our design matrix is:\", X.shape)\n",
    "print(\"The shape of mu (and sigma) is:\", mu.shape)"
   ]
  },
  {
   "cell_type": "markdown",
   "metadata": {},
   "source": [
    "Let's now use our gradient descent function to fit a 2-degree polynomial model to the same data. To do this, we should pass to the function the set of features up to the power of 2, so our design matrix would comprise three features: $[1, feat, feat^2]$"
   ]
  },
  {
   "cell_type": "code",
   "execution_count": 21,
   "metadata": {},
   "outputs": [
    {
     "name": "stdout",
     "output_type": "stream",
     "text": [
      "Gradient Descent converged after 46 iterations\n",
      "Estimated weights: [[  7.84508161]\n",
      " [-13.60617806]\n",
      " [  7.01741506]]\n"
     ]
    },
    {
     "data": {
      "text/plain": [
       "[<matplotlib.lines.Line2D at 0x1c47661e948>]"
      ]
     },
     "execution_count": 21,
     "metadata": {},
     "output_type": "execute_result"
    },
    {
     "data": {
      "image/png": "[encoded data removed]",
      "text/plain": [
       "<Figure size 432x288 with 1 Axes>"
      ]
     },
     "metadata": {
      "needs_background": "light"
     },
     "output_type": "display_data"
    }
   ],
   "source": [
    "deg = 2\n",
    "X, mu, sigma = mapFeatureAndNormalise_Polynomial(feat, deg)\n",
    "\n",
    "w, J = GradientDescent_np(X, out, lr=0.2)\n",
    "print('Estimated weights:', w)  # Since we passed it three features, we expect to receive values for three weights\n",
    "\n",
    "#Plot the evolution of the cost\n",
    "plt.plot(np.arange(len(J)), J, 'bo')  # To plot the evolution of the Cost (J) we use as x a list of numbers from 1 to the number of elements inside J, and as y the values in J"
   ]
  },
  {
   "cell_type": "code",
   "execution_count": 22,
   "metadata": {},
   "outputs": [
    {
     "data": {
      "image/png": "[encoded data removed]",
      "text/plain": [
       "<Figure size 432x288 with 1 Axes>"
      ]
     },
     "metadata": {
      "needs_background": "light"
     },
     "output_type": "display_data"
    }
   ],
   "source": [
    "# To plot our solution, we need to use the Thetas we have been given and calculate our estimated output for a series of points\n",
    "xx = np.arange(feat.min(),feat.max(), 0.1) # Let's first define a series of points: from the minimum value of the original feature to the maximum value, every 0.1\n",
    "\n",
    "# Now for each of our points in the range defined above, we need to calculate what our model gives us\n",
    "# IMPORTANT: in order to pass the values in xx through our model, we need to create and normalise polynomial features in the same way as before!\n",
    "X, mu, sigma = mapFeatureAndNormalise_Polynomial(xx, degree = 2, preCalcMeans = mu, preCalcStd = sigma)\n",
    "yy = X @ w # @ is the operator for matrix multiplication. This is equivalent to yy = np.matmul(X, w)\n",
    "\n",
    "plt.figure() # We first create a new figure, otherwise it will include this plot in the previous one\n",
    "plt.plot(feat, out, 'ro') # Here we plot the original feature vs out of our data as big red circles\n",
    "plt.plot(xx, yy, 'g') # Now we can plot our points in the range vs the estimated value calculated by our model, connected by a green line\n",
    "plt.show()"
   ]
  },
  {
   "cell_type": "markdown",
   "metadata": {},
   "source": [
    "<font color=blue>**Exercise:** What is the final cost value of the above fit?</font>"
   ]
  },
  {
   "cell_type": "code",
   "execution_count": 23,
   "metadata": {},
   "outputs": [
    {
     "name": "stdout",
     "output_type": "stream",
     "text": [
      "Final cost:[67.5582234]\n"
     ]
    }
   ],
   "source": [
    "#Your Code Here#\n",
    "\n",
    "# The final Cost value is the last value we have in the list of costs (the cost at the very last iteration). We can access it by indexing at -1 (one element from the end of the list)\n",
    "print('Final cost:{0}'.format(J[-1]))"
   ]
  },
  {
   "cell_type": "markdown",
   "metadata": {},
   "source": [
    "<font color=blue>**Exercise:** Can you fit a 15-degree polynomial? What is the final cost value in this case?</font>"
   ]
  },
  {
   "cell_type": "code",
   "execution_count": 24,
   "metadata": {},
   "outputs": [
    {
     "name": "stdout",
     "output_type": "stream",
     "text": [
      "Gradient Descent converged after 13000 iterations\n",
      "Estimated weights: [[  7.8453003 ]\n",
      " [  7.55798605]\n",
      " [-10.42602886]\n",
      " [-35.80811109]\n",
      " [ 48.58661973]\n",
      " [ 14.45479186]\n",
      " [-32.02290975]]\n"
     ]
    },
    {
     "data": {
      "image/png": "[encoded data removed]",
      "text/plain": [
       "<Figure size 432x288 with 1 Axes>"
      ]
     },
     "metadata": {
      "needs_background": "light"
     },
     "output_type": "display_data"
    },
    {
     "data": {
      "text/plain": [
       "<Figure size 432x288 with 0 Axes>"
      ]
     },
     "metadata": {},
     "output_type": "display_data"
    },
    {
     "data": {
      "image/png": "[encoded data removed]",
      "text/plain": [
       "<Figure size 432x288 with 1 Axes>"
      ]
     },
     "metadata": {
      "needs_background": "light"
     },
     "output_type": "display_data"
    },
    {
     "name": "stdout",
     "output_type": "stream",
     "text": [
      "Final cost:[24.3195955]\n"
     ]
    }
   ],
   "source": [
    "#Your Code Here#\n",
    "\n",
    "deg = 6\n",
    "X, mu, sigma = mapFeatureAndNormalise_Polynomial(feat, deg)\n",
    "\n",
    "w, J = GradientDescent_np(X, out, max_iterations = 50000, lr=0.2, epsilon = 0.00001)\n",
    "print('Estimated weights:', w)  # Since we passed it three features, we expect to receive values for three weights\n",
    "\n",
    "#Plot the evolution of the cost\n",
    "plt.plot(np.arange(len(J)), J, 'bo')  # To plot the evolution of the Cost (J) we use as x a list of numbers from 1 to the number of elements inside J, and as y the values in J\n",
    "\n",
    "# Plot fit\n",
    "plt.figure() # We first create a new figure, otherwise it will include this plot in the previous one\n",
    "# To plot our solution, we need to use the Thetas we have been given and calculate our estimated output for a series of points\n",
    "xx = np.arange(feat.min(),feat.max(), 0.1) # Let's first define a series of points: from the minimum value of the original feature to the maximum value, every 0.1\n",
    "\n",
    "# Now for each of our points in the range defined above, we need to calculate what our model gives us\n",
    "# IMPORTANT: in order to pass the values in xx through our model, we need to create and normalise polynomial features in the same way as before!\n",
    "X, mu, sigma = mapFeatureAndNormalise_Polynomial(xx, degree = deg, preCalcMeans = mu, preCalcStd = sigma)\n",
    "yy = X @ w # @ is the operator for matrix multiplication. This is equivalent to yy = np.matmul(X, w)\n",
    "\n",
    "plt.figure() # We first create a new figure, otherwise it will include this plot in the previous one\n",
    "plt.plot(feat, out, 'ro') # Here we plot the original feature vs out of our data as big red circles\n",
    "plt.plot(xx, yy, 'g') # Now we can plot our points in the range vs the estimated value calculated by our model, connected by a green line\n",
    "plt.show()\n",
    "\n",
    "print('Final cost:{0}'.format(J[-1]))"
   ]
  },
  {
   "cell_type": "markdown",
   "metadata": {},
   "source": [
    "<font color=blue>**Exercise:** Fit polynomials of all degrees from 0 to 15 and plot the evolution of the final cost (at convergence) with respect to the degree of the model.</font>"
   ]
  },
  {
   "cell_type": "code",
   "execution_count": 25,
   "metadata": {},
   "outputs": [
    {
     "name": "stdout",
     "output_type": "stream",
     "text": [
      "Gradient Descent converged after 33 iterations\n",
      "Gradient Descent converged after 37 iterations\n",
      "Gradient Descent converged after 40 iterations\n",
      "Gradient Descent converged after 370 iterations\n",
      "Gradient Descent converged after 389 iterations\n",
      "Gradient Descent converged after 4246 iterations\n",
      "Gradient Descent converged after 13000 iterations\n",
      "Gradient Descent converged after 35369 iterations\n",
      "Gradient Descent converged after 35516 iterations\n",
      "Gradient Descent converged after 21850 iterations\n",
      "Gradient Descent converged after 23704 iterations\n",
      "Gradient Descent converged after 15179 iterations\n",
      "Gradient Descent converged after 17448 iterations\n",
      "Gradient Descent converged after 16332 iterations\n",
      "Gradient Descent converged after 15531 iterations\n"
     ]
    },
    {
     "data": {
      "text/plain": [
       "[<matplotlib.lines.Line2D at 0x1c4767c0f88>]"
      ]
     },
     "execution_count": 25,
     "metadata": {},
     "output_type": "execute_result"
    },
    {
     "data": {
      "image/png": "[encoded data removed]",
      "text/plain": [
       "<Figure size 432x288 with 1 Axes>"
      ]
     },
     "metadata": {
      "needs_background": "light"
     },
     "output_type": "display_data"
    }
   ],
   "source": [
    "#Your Code Here#\n",
    "\n",
    "Costs = []\n",
    "for deg in range(0, 15):\n",
    "    X, mu, sigma = mapFeatureAndNormalise_Polynomial(feat, deg)\n",
    "    w, J = GradientDescent_np(X, out, lr=0.2, max_iterations = 50000, epsilon = 0.00001)\n",
    "    Costs.append(J[-1])\n",
    "    \n",
    "plt.plot(Costs)"
   ]
  },
  {
   "cell_type": "markdown",
   "metadata": {},
   "source": [
    "<font color=blue>**Exercise:** Add regularisation to our Gradient Descent algorithm and run gradient descent with a polynomial of degree 15 again. What do you observe?</font>"
   ]
  },
  {
   "cell_type": "code",
   "execution_count": 26,
   "metadata": {},
   "outputs": [],
   "source": [
    "#Your Code Here#\n",
    "\n",
    "def GradientDescent_np_reg(X, y, max_iterations=10000, lr=0.1, epsilon = 0.000001, l=0):\n",
    "    m, n = X.shape # number of samples\n",
    "    J = []\n",
    "\n",
    "    # y must be a column vector of shape m x 1\n",
    "    y = y.reshape(m, 1)\n",
    "\n",
    "    #initialize the weights to zero (or anything else you want, e.g. a small random value)\n",
    "    w = np.zeros(shape=(n, 1))\n",
    "        \n",
    "    # Repeat until convergence (or max_iterations)\n",
    "    for iteration in range(max_iterations):\n",
    "        w_temp = w.copy()\n",
    "        w_temp[0] = 0 # ignore the bias term in the regularisation        \n",
    "\n",
    "        grad = (np.dot(X.T , (np.dot(X, w) - y)) + 2 * l * w )/ m;\n",
    "        w = w - lr*grad        \n",
    "        \n",
    "        J.append(sum( (np.dot(X, w) - y)**2 + l * np.dot(w_temp.T, w_temp)) / m)\n",
    "        \n",
    "        # Stopping Criterion\n",
    "        if (iteration > 2) and ( abs(J[-2] - J[-1]) < epsilon):\n",
    "            print (\"Gradient Descent converged after {} iterations\".format(iteration))\n",
    "            break\n",
    "    return [w, np.array(J)]"
   ]
  },
  {
   "cell_type": "code",
   "execution_count": 27,
   "metadata": {},
   "outputs": [
    {
     "name": "stdout",
     "output_type": "stream",
     "text": [
      "Gradient Descent converged after 1795 iterations\n",
      "Estimated weights: [[ 6.37953511]\n",
      " [-3.47995503]\n",
      " [ 2.52497264]\n",
      " [-3.22551587]\n",
      " [ 1.85452911]\n",
      " [-2.42008404]\n",
      " [ 1.28189227]\n",
      " [-1.85098517]\n",
      " [ 0.90175154]\n",
      " [-1.49476147]\n",
      " [ 0.64187963]\n",
      " [-1.27221586]\n",
      " [ 0.45124814]\n",
      " [-1.12822284]\n",
      " [ 0.30197076]\n",
      " [-1.02996168]]\n",
      "Final cost:[90.69131358]\n"
     ]
    },
    {
     "data": {
      "image/png": "[encoded data removed]",
      "text/plain": [
       "<Figure size 432x288 with 1 Axes>"
      ]
     },
     "metadata": {
      "needs_background": "light"
     },
     "output_type": "display_data"
    }
   ],
   "source": [
    "deg = 15\n",
    "X, mu, sigma = mapFeatureAndNormalise_Polynomial(feat, deg)\n",
    "\n",
    "w, J = GradientDescent_np_reg(X, out, max_iterations = 50000, lr=0.001, epsilon = 0.00001, l=1)\n",
    "print('Estimated weights:', w)  # Since we passed it three features, we expect to receive values for three weights\n",
    "\n",
    "#Plot the evolution of the cost\n",
    "plt.plot(np.arange(len(J)), J, 'bo')  # To plot the evolution of the Cost (J) we use as x a list of numbers from 1 to the number of elements inside J, and as y the values in J\n",
    "\n",
    "print('Final cost:{0}'.format(J[-1]))"
   ]
  },
  {
   "cell_type": "code",
   "execution_count": 28,
   "metadata": {},
   "outputs": [
    {
     "data": {
      "image/png": "[encoded data removed]",
      "text/plain": [
       "<Figure size 432x288 with 1 Axes>"
      ]
     },
     "metadata": {
      "needs_background": "light"
     },
     "output_type": "display_data"
    }
   ],
   "source": [
    "# To plot our solution, we need to use the Thetas we have been given and calculate our estimated output for a series of points\n",
    "xx = np.arange(feat.min(),feat.max(), 0.1) # Let's first define a series of points: from the minimum value of the original feature to the maximum value, every 0.1\n",
    "\n",
    "# Now for each of our points in the range defined above, we need to calculate what our model gives us\n",
    "# IMPORTANT: in order to pass the values in xx through our model, we need to create and normalise polynomial features in the same way as before!\n",
    "X, mu, sigma = mapFeatureAndNormalise_Polynomial(xx, degree = deg, preCalcMeans = mu, preCalcStd = sigma)\n",
    "yy = X @ w # @ is the operator for matrix multiplication. This is equivalent to yy = np.matmul(X, w)\n",
    "\n",
    "plt.figure() # We first create a new figure, otherwise it will include this plot in the previous one\n",
    "plt.plot(feat, out, 'ro') # Here we plot the original feature vs out of our data as big red circles\n",
    "plt.plot(xx, yy, 'g') # Now we can plot our points in the range vs the estimated value calculated by our model, connected by a green line\n",
    "plt.show()"
   ]
  },
  {
   "cell_type": "markdown",
   "metadata": {},
   "source": [
    "---\n",
    "\n",
    "*Answer*\n",
    "\n",
    "We tried different values for $\\lambda$, here we show results for $\\lambda = 1.0$.\n",
    "\n",
    "When using regularisation we seem to converge more rapidly, and the final fit is clearly not overfitting anymore.\n",
    "\n",
    "The weight values obtained are smaller than before, although all of them are still non-zero. The L2 regularisation we are using is not doing any hard selection of a model.\n",
    "\n",
    "The final cost is much higher than the non-regularised case, which is expected.\n",
    "\n",
    "---\n"
   ]
  },
  {
   "cell_type": "markdown",
   "metadata": {},
   "source": [
    "## 1.4 Logistic Regression"
   ]
  },
  {
   "cell_type": "markdown",
   "metadata": {},
   "source": [
    "We are given a synthetic dataset comrpising of m samples of two features each, that correspond to either of two classes $[0, 1]$. First load the data and plot it."
   ]
  },
  {
   "cell_type": "code",
   "execution_count": 29,
   "metadata": {},
   "outputs": [
    {
     "name": "stdout",
     "output_type": "stream",
     "text": [
      "# Samples, # Features: (117, 2)\n",
      "# target outputs: (117,)\n"
     ]
    }
   ],
   "source": [
    "# Load the synthetic dataset\n",
    "import pickle\n",
    "\n",
    "with open('RingsData.pkl', 'rb') as f:\n",
    "    X, y = pickle.load(f)\n",
    "\n",
    "print (\"# Samples, # Features:\", X.shape)\n",
    "print (\"# target outputs:\", y.shape)"
   ]
  },
  {
   "cell_type": "code",
   "execution_count": 30,
   "metadata": {
    "collapsed": false,
    "jupyter": {
     "outputs_hidden": false
    }
   },
   "outputs": [
    {
     "data": {
      "image/png": "[encoded data removed]",
      "text/plain": [
       "<Figure size 432x288 with 1 Axes>"
      ]
     },
     "metadata": {
      "needs_background": "light"
     },
     "output_type": "display_data"
    }
   ],
   "source": [
    "# Plot the data\n",
    "plt.scatter(X[y==1, 0], X[y==1, 1], marker='o', c='b') #positive samples\n",
    "plt.scatter(X[y==0, 0], X[y==0, 1], marker='x', c='r') #negative samples\n",
    "plt.show()"
   ]
  },
  {
   "cell_type": "markdown",
   "metadata": {},
   "source": [
    "We are going train a binary classifier using the Logistic Regression model: $f_w(\\textbf{x}) = \\frac{1}{1+e^{-w^\\intercal \\textbf{x}}}$\n",
    "\n",
    "For this we need to fit the parameters $w$ to our dataset by minimizing the cost function $J$:\n",
    "\n",
    "$\\hat{w} = \\underset{w}{\\text{minimize}} {1 \\over m} \\sum_{i=1}^m{-y^{(i)}\\log(f_w(x^{(i)}) - (1-y^{(i)})\\log(1-f_w(x^{(i)})}$\n",
    "\n",
    "where $(x^{(i)},y^{(i)})$ is the i-th training sample, and $m$ is the number of samples in the training set.\n",
    "\n",
    "We are going to use the Gradient Descent algorithm to solve this minimization problem, in pseudo-code:\n",
    "\n",
    "repeat until convergence (or max. number of iterations) \n",
    "\n",
    "{\n",
    "\n",
    "$w_j := w_j - \\alpha \\frac{\\partial}{\\partial w_j} J(w)$ (for all j)\n",
    "\n",
    "}\n",
    "\n",
    "where $\\alpha$ is the learning rate, and the partial derivative (the gradient) of the cost function is given by:\n",
    "\n",
    "$\\frac{\\partial}{\\partial w_j} J(w) = {1 \\over m} \\sum_{i=1}^m{(f_w(x^{(i)}) - y^{(i)}) x_j^{(i)}}$\n",
    "\n",
    "Notice that the partial derivative of our cost function has the same form as for the Linear Regression cost function, however the difference is in the term $f_w(\\textbf{x})$, our model. In the case of Logistic Regression $f_w(\\textbf{x})$ is the sigmoid function of $w^\\intercal \\textbf{x}$.\n",
    "\n",
    "Thus, the Python code of our **GradientDescent** function is going to be quite the same as for Linear Regression, but calling the **sigmoid** function to evaluate the Logistic Regression model $f_w(\\textbf{x})$."
   ]
  },
  {
   "cell_type": "code",
   "execution_count": 31,
   "metadata": {
    "collapsed": false,
    "jupyter": {
     "outputs_hidden": false
    }
   },
   "outputs": [],
   "source": [
    "import numpy as np\n",
    "\n",
    "def sigmoid(X):\n",
    "    '''\n",
    "    Computes the Sigmoid function of the input argument X.\n",
    "    '''\n",
    "    return 1.0/(1+np.exp(-X))\n",
    "\n",
    "\n",
    "def GradientDescent_logistic(X, y, max_iterations=10000, lr=0.1, epsilon = 0.0000001):\n",
    "    '''\n",
    "    Gradient descent function for logistic regression without regularisation.\n",
    "    X is the design matrix, y is the target outputs (in this case it should have values of either 0 or 1)\n",
    "    '''    \n",
    "    m, n = X.shape # number of samples, number of features\n",
    "    J = []\n",
    "    \n",
    "    # y must be a column vector of shape m x 1\n",
    "    y = y.reshape(m, 1)\n",
    "    \n",
    "    # Create as many parameters as features and initialize them to zero\n",
    "    w = np.zeros(shape=(n, 1))\n",
    "       \n",
    "    # Repeat until convergence (or max_iterations)\n",
    "    for iteration in range(max_iterations):\n",
    "        f = sigmoid(np.dot(X, w))\n",
    "        error = (f-y)\n",
    "        gradient = np.dot(X.T , error) / m\n",
    "        w = w - lr*gradient\n",
    "        \n",
    "        J.append(sum(-y * np.log(f) - (1-y) * np.log(1-f)) / m)\n",
    "        \n",
    "        # Stopping Criterion\n",
    "        if (iteration > 2) and ( abs(J[-2] - J[-1]) < epsilon):\n",
    "            print (\"Gradient Descent converged after {} iterations\".format(iteration))\n",
    "            break\n",
    "        \n",
    "    return [w, np.array(J)]\n",
    "\n",
    "\n",
    "def classifyVector(X, w):\n",
    "    '''\n",
    "    Evaluate the Logistic Regression model h(x) with theta parameters,\n",
    "    and returns the predicted label of x.\n",
    "    '''\n",
    "    prob = sigmoid(np.dot(X, w))\n",
    "    ret = np.zeros_like(prob) # These next three lines are just in order to be able to deal with single (vector) or multiple (matrix) inputs\n",
    "    ret[prob > 0.5] = 1\n",
    "    ret = ret.squeeze()\n",
    "    return ret"
   ]
  },
  {
   "cell_type": "code",
   "execution_count": 32,
   "metadata": {},
   "outputs": [],
   "source": [
    "# Accept this function as is, you can think of it as creating a 3D surface and \"cutting\" it at 0.5\n",
    "def plotDecisionBoundary(X, y, w):    \n",
    "    #Plot data\n",
    "    plt.scatter(X[:, 0], X[:,1], cmap = \"Set1\", c = y)\n",
    "\n",
    "    #Plot Decision Boundary\n",
    "    u = np.linspace(min(X[:,0]), max(X[:,0]), 50)\n",
    "    v = np.linspace(min(X[:,1]), max(X[:,1]), 50)\n",
    "    z = np.zeros(shape=(len(u), len(v)))\n",
    "    for i in range(len(u)):\n",
    "        for j in range(len(v)):            \n",
    "            z[i, j] = sigmoid(np.dot(np.array([1,u[i],v[j]]),w))\n",
    "\n",
    "    z = z.T\n",
    "\n",
    "    cs = plt.contour(u, v, z, levels=[0.5])\n",
    "    plt.clabel(cs, inline=1, fontsize=10)\n",
    "    plt.show()"
   ]
  },
  {
   "cell_type": "markdown",
   "metadata": {},
   "source": [
    "Now, we train the Logistic Regression classifier and draw its decision boundary in a 2D plot."
   ]
  },
  {
   "cell_type": "code",
   "execution_count": 33,
   "metadata": {
    "collapsed": false,
    "jupyter": {
     "outputs_hidden": false
    }
   },
   "outputs": [
    {
     "name": "stdout",
     "output_type": "stream",
     "text": [
      "Gradient Descent converged after 477 iterations\n",
      "Estimated weights: [[-0.00167667]\n",
      " [-0.25101695]\n",
      " [-0.01889087]]\n",
      "Training Accuracy : 0.5470085470085471\n"
     ]
    },
    {
     "data": {
      "image/png": "[encoded data removed]",
      "text/plain": [
       "<Figure size 432x288 with 1 Axes>"
      ]
     },
     "metadata": {
      "needs_background": "light"
     },
     "output_type": "display_data"
    }
   ],
   "source": [
    "# Append the x0 column (for the bias term w0)\n",
    "m, n = X.shape # m is the number of samples and n is the number of features\n",
    "ones = np.ones(shape=(m, 1))\n",
    "Xaugmented = np.hstack( (ones, X) )\n",
    "\n",
    "#Logistic Regression gradient descent optimization\n",
    "w, J = GradientDescent_logistic(Xaugmented, y)\n",
    "print (\"Estimated weights:\", w)\n",
    "\n",
    "#Plot the evolution of the cost\n",
    "plt.plot(np.arange(len(J)), J, 'bo')  # To plot the evolution of the Cost (J) we use as x a list of numbers from 1 to the number of elements inside J, and as y the values in J\n",
    "\n",
    "#Evaluate the classifier accuracy in the training data\n",
    "H = classifyVector(Xaugmented, w)\n",
    "print (\"Training Accuracy :\", np.sum(H == y) / m)"
   ]
  },
  {
   "cell_type": "code",
   "execution_count": 34,
   "metadata": {},
   "outputs": [
    {
     "data": {
      "image/png": "[encoded data removed]",
      "text/plain": [
       "<Figure size 432x288 with 1 Axes>"
      ]
     },
     "metadata": {
      "needs_background": "light"
     },
     "output_type": "display_data"
    }
   ],
   "source": [
    "plotDecisionBoundary(X, y, w)"
   ]
  },
  {
   "cell_type": "markdown",
   "metadata": {},
   "source": [
    "As can be seen in the previous plot the classification boundary with 2 features fits very poorly our data.\n",
    "\n",
    "One way to fit the data better is to create more features from each data point. We will map the features into all polynomial terms of $x_1$ and $x_2$ up to the $deg$ power. \n",
    "\n",
    "$MapFeature(x_1,x_2) = [1, x_1,x_2,x_1^2,x_1x_2,x_2^2,x_1^3, \\dots , x_1x_2^{(deg-1)}, x_2^{(deg)}]$\n",
    "\n",
    "The Logistic Regression classifier trained on such high dimensional feature spaces will have a more complex decision boundary (i.e. more degrees of freedom) and will appear nonlinear when drawn in the 2D plot."
   ]
  },
  {
   "cell_type": "code",
   "execution_count": 35,
   "metadata": {
    "collapsed": false,
    "jupyter": {
     "outputs_hidden": false
    }
   },
   "outputs": [],
   "source": [
    "def mapFeatureAndNormalise_AllQuadTerms(x1, x2, degree = 6, preCalcMeans = None, preCalcStd = None):\n",
    "    '''\n",
    "    Maps 2D features to quadratic features.\n",
    "    Returns a new feature vector with more features, comprising of\n",
    "    x1, x2, x1^2, x2^2, x1*x2, x1*x2^2, etc...\n",
    "    '''\n",
    "    \n",
    "    x1 = x1.reshape(-1, 1) # make it into a column vector\n",
    "    x2 = x2.reshape(-1, 1) # make it into a column vector\n",
    "\n",
    "    DesignMatrix = np.ones_like(x1) # start with a column of ones\n",
    "    \n",
    "    for i in range(1, degree + 1):\n",
    "        for j in range(i + 1):\n",
    "            c = (x1 ** (i - j)) * (x2 ** j)\n",
    "            DesignMatrix = np.append(DesignMatrix, c, axis=1)\n",
    "\n",
    "    # Calculate means and standard deviation if not provided\n",
    "    if preCalcMeans is None:\n",
    "        mu = DesignMatrix.mean(axis = 0)\n",
    "    else:\n",
    "        mu = preCalcMeans\n",
    "        \n",
    "    if preCalcStd is None:\n",
    "        sigma = DesignMatrix.std(axis = 0, ddof=1)\n",
    "    else:\n",
    "        sigma = preCalcStd            \n",
    "            \n",
    "    # Scale features and set them to zero mean (standarize)\n",
    "    # normalize everything except X0 (the artificial first feature that we set to ones)\n",
    "    for i in range(1, DesignMatrix.shape[1]):\n",
    "        DesignMatrix[:,i] = (DesignMatrix[:,i] - mu[i]) / sigma[i];\n",
    "\n",
    "    return DesignMatrix, mu, sigma"
   ]
  },
  {
   "cell_type": "markdown",
   "metadata": {},
   "source": [
    "Let's try it out for degree = 3. We expect to get an output of 10 features: $[1, x_1, x_2, x_1^2, x_1x_2, x_2^2, x_1^3, x_1^2x_2, x_1x_2^2, x_2^3]$"
   ]
  },
  {
   "cell_type": "code",
   "execution_count": 36,
   "metadata": {},
   "outputs": [
    {
     "name": "stdout",
     "output_type": "stream",
     "text": [
      "output has shape: (117, 10)\n",
      "Mean (and Sigma) has shape (10,)\n"
     ]
    }
   ],
   "source": [
    "deg = 3\n",
    "features, mu, sigma = mapFeatureAndNormalise_AllQuadTerms(X[:,0], X[:,1], degree = deg)\n",
    "print(\"output has shape:\", features.shape) # Should be m rows (equal to the number of data points) and 10 rows (equal to the number of features)\n",
    "print(\"Mean (and Sigma) has shape\", mu.shape)"
   ]
  },
  {
   "cell_type": "markdown",
   "metadata": {},
   "source": [
    "Now we will use these new features to do logistic regression"
   ]
  },
  {
   "cell_type": "code",
   "execution_count": 37,
   "metadata": {
    "collapsed": false,
    "jupyter": {
     "outputs_hidden": false
    }
   },
   "outputs": [
    {
     "name": "stdout",
     "output_type": "stream",
     "text": [
      "Gradient Descent converged after 5290 iterations\n",
      "Training Accuracy : 0.8547008547008547\n"
     ]
    }
   ],
   "source": [
    "deg = 3\n",
    "features, mu, sigma = mapFeatureAndNormalise_AllQuadTerms(X[:,0], X[:,1], degree = deg)\n",
    "\n",
    "#Logistic Regression gradient descent optimization\n",
    "w, J = GradientDescent_logistic(features, y)\n",
    "\n",
    "out = classifyVector(features, w)\n",
    "print (\"Training Accuracy :\", float(np.sum(out == y)) / m)"
   ]
  },
  {
   "cell_type": "markdown",
   "metadata": {},
   "source": [
    "Plotting your results using our old function does not work well now, as we want to plot in the original space, but our model works in the new feature space we created. We have to inform our plotting function about what kind of feature embedding (degrees, means and sigmas it should use). We update this below - once again, you can just accept this code as is."
   ]
  },
  {
   "cell_type": "code",
   "execution_count": 38,
   "metadata": {},
   "outputs": [],
   "source": [
    "# Accept this function as is, you can think of it as creating a 3D surface and \"cutting\" it at 0.5\n",
    "def plotDecisionBoundary_withEmbeddedFeatures(X, y, w, degrees, means, sigmas):    \n",
    "    #Plot data\n",
    "    plt.scatter(X[y==1, 0], X[y==1, 1], marker='o', c='b') #positive samples\n",
    "    plt.scatter(X[y==0, 0], X[y==0, 1], marker='x', c='r') #negative samples\n",
    "\n",
    "    #Plot Decision Boundary\n",
    "    u = np.linspace(min(X[:,0]), max(X[:,0]), 50)\n",
    "    v = np.linspace(min(X[:,1]), max(X[:,1]), 50)\n",
    "    z = np.zeros(shape=(len(u), len(v)))\n",
    "    for i in range(len(u)):\n",
    "        for j in range(len(v)):        \n",
    "            feature, _, _ = mapFeatureAndNormalise_AllQuadTerms(x1 = np.array(u[i]), x2 = np.array(v[j]), degree = degrees, preCalcMeans = means, preCalcStd=sigmas)\n",
    "            z[i, j] = sigmoid(feature.dot(w))\n",
    "            \n",
    "    z = z.T\n",
    "\n",
    "    cs = plt.contour(u, v, z, levels=[0.5])\n",
    "    plt.clabel(cs, inline=1, fontsize=10)\n",
    "    plt.show()"
   ]
  },
  {
   "cell_type": "code",
   "execution_count": 39,
   "metadata": {},
   "outputs": [
    {
     "data": {
      "image/png": "[encoded data removed]",
      "text/plain": [
       "<Figure size 432x288 with 1 Axes>"
      ]
     },
     "metadata": {
      "needs_background": "light"
     },
     "output_type": "display_data"
    }
   ],
   "source": [
    "plotDecisionBoundary_withEmbeddedFeatures(X, y, w, deg, mu, sigma)"
   ]
  },
  {
   "cell_type": "markdown",
   "metadata": {},
   "source": [
    "<font color=blue>**Exercise:** Generate features of different degrees, up to degree 15 and run gradient descent. What do you observe?</font>"
   ]
  },
  {
   "cell_type": "code",
   "execution_count": 40,
   "metadata": {},
   "outputs": [
    {
     "name": "stdout",
     "output_type": "stream",
     "text": [
      "Gradient Descent converged after 16369 iterations\n",
      "Training Accuracy : 0.9145299145299145\n"
     ]
    }
   ],
   "source": [
    "# Your Code Here#\n",
    "\n",
    "deg = 15\n",
    "features, mu, sigma = mapFeatureAndNormalise_AllQuadTerms(X[:,0], X[:,1], degree = deg)\n",
    "\n",
    "#Logistic Regression gradient descent optimization\n",
    "w, J = GradientDescent_logistic(features,y, max_iterations = 20000, epsilon = 0.000001)\n",
    "\n",
    "out = classifyVector(features, w)\n",
    "print (\"Training Accuracy :\", float(np.sum(out == y)) / m)"
   ]
  },
  {
   "cell_type": "code",
   "execution_count": 41,
   "metadata": {},
   "outputs": [
    {
     "name": "stderr",
     "output_type": "stream",
     "text": [
      "C:\\ProgramData\\Anaconda3\\envs\\analysis\\lib\\site-packages\\ipykernel_launcher.py:7: RuntimeWarning: overflow encountered in exp\n",
      "  import sys\n"
     ]
    },
    {
     "data": {
      "image/png": "[encoded data removed]",
      "text/plain": [
       "<Figure size 432x288 with 1 Axes>"
      ]
     },
     "metadata": {
      "needs_background": "light"
     },
     "output_type": "display_data"
    }
   ],
   "source": [
    "plotDecisionBoundary_withEmbeddedFeatures(X, y, w, deg, mu, sigma)"
   ]
  },
  {
   "cell_type": "markdown",
   "metadata": {},
   "source": [
    "---\n",
    "\n",
    "*Answer*\n",
    "\n",
    "For high degrees, the solutions are overfitting the data\n",
    "\n",
    "---\n"
   ]
  },
  {
   "cell_type": "markdown",
   "metadata": {},
   "source": [
    "<font color=blue>**Exercise:** Add regularisation to our Gradient Descent algorithm and run gradient descent with features of degree up to 15. What do you observe?</font>"
   ]
  },
  {
   "cell_type": "code",
   "execution_count": 42,
   "metadata": {},
   "outputs": [],
   "source": [
    "def GradientDescent_logistic_reg(X, y, max_iterations=10000, alpha=0.1, epsilon = 0.0000001, lam = 1):\n",
    "    # Your Code Here\n",
    "    # ...\n",
    "    \n",
    "    m, n = X.shape # number of samples, number of features\n",
    "    J = []\n",
    "\n",
    "    # y must be a column vector of shape m x 1\n",
    "    y = y.reshape(m, 1)\n",
    "    \n",
    "    # Create as many parameters as features and initialize them to zero\n",
    "    w = np.zeros(shape=(n, 1))\n",
    "    \n",
    "    # Repeat for max_iterations or until we have converged\n",
    "    for iteration in range(max_iterations):\n",
    "        f_x = sigmoid(X @ w)\n",
    "        residual = (f_x-y)\n",
    "        \n",
    "        w_copy = w.copy()\n",
    "        w_copy[0] = 0 # ignore the bias term in the regularisation        \n",
    "        gradient = (np.dot(X.T , residual) + 2 * lam * w_copy) /m  # ADDED THE REGULARISATION TERM\n",
    "        w = w - alpha*gradient\n",
    "        \n",
    "        J.append( sum(-y*np.log(f_x)-(1-y)*np.log(1-f_x)) / m  + lam * np.squeeze(w_copy.T @ w_copy) / m)\n",
    "        \n",
    "        if (iteration > 1) and (J[-2] - J[-1]) < epsilon:\n",
    "            print(\"Converged after {} iterations\".format(iteration))\n",
    "            break\n",
    "            \n",
    "    return [w, np.squeeze(J)]"
   ]
  },
  {
   "cell_type": "code",
   "execution_count": 43,
   "metadata": {},
   "outputs": [
    {
     "name": "stdout",
     "output_type": "stream",
     "text": [
      "Converged after 1413 iterations\n",
      "Training Accuracy : 0.8547008547008547\n"
     ]
    }
   ],
   "source": [
    "#Logistic Regression gradient descent optimization\n",
    "deg = 15\n",
    "(features, mu, sigma) = mapFeatureAndNormalise_AllQuadTerms(X[:,0], X[:,1], degree=deg)\n",
    "\n",
    "w, J = GradientDescent_logistic_reg(features, y, max_iterations=50000, alpha = 0.1, lam = 1.5)\n",
    "\n",
    "out = classifyVector(features, w)\n",
    "print (\"Training Accuracy :\", float(np.sum(out == y)) / m)"
   ]
  },
  {
   "cell_type": "code",
   "execution_count": 44,
   "metadata": {},
   "outputs": [
    {
     "name": "stderr",
     "output_type": "stream",
     "text": [
      "C:\\ProgramData\\Anaconda3\\envs\\analysis\\lib\\site-packages\\ipykernel_launcher.py:7: RuntimeWarning: overflow encountered in exp\n",
      "  import sys\n"
     ]
    },
    {
     "data": {
      "image/png": "[encoded data removed]",
      "text/plain": [
       "<Figure size 432x288 with 1 Axes>"
      ]
     },
     "metadata": {
      "needs_background": "light"
     },
     "output_type": "display_data"
    }
   ],
   "source": [
    "plotDecisionBoundary_withEmbeddedFeatures(X, y, w, deg, mu, sigma)"
   ]
  },
  {
   "cell_type": "markdown",
   "metadata": {},
   "source": [
    "---\n",
    "\n",
    "*Answer*\n",
    "\n",
    "We get a much smoother decision boundary, and lower performance on the training set, but this is expected to generalise much better on unseen data.\n",
    "\n",
    "---\n"
   ]
  },
  {
   "cell_type": "markdown",
   "metadata": {},
   "source": [
    "## 1.5 Using sklearn\n",
    "\n",
    "This section has no exercises. Your task is to read the manual, and understand how to repeat everything we have done up to now using the functions available in the library scikit-learn.\n",
    "\n",
    "To get you started, this is the overview manual page for linear models: https://scikit-learn.org/stable/modules/linear_model.html"
   ]
  },
  {
   "cell_type": "markdown",
   "metadata": {},
   "source": [
    "### Linear Regression"
   ]
  },
  {
   "cell_type": "markdown",
   "metadata": {},
   "source": [
    "Read the manual page here: https://scikit-learn.org/stable/modules/generated/sklearn.linear_model.LinearRegression.html#sklearn.linear_model.LinearRegression"
   ]
  },
  {
   "cell_type": "code",
   "execution_count": 45,
   "metadata": {},
   "outputs": [
    {
     "name": "stdout",
     "output_type": "stream",
     "text": [
      "(47, 2)\n",
      "(47,)\n"
     ]
    }
   ],
   "source": [
    "# Load the House dataset\n",
    "with open('HouseData.pkl', 'rb') as f:\n",
    "    X, y = pickle.load(f)\n",
    "    \n",
    "print (X.shape)\n",
    "print (y.shape)\n",
    "\n",
    "size = X[:, 0]\n",
    "size = size.reshape(-1, 1)"
   ]
  },
  {
   "cell_type": "code",
   "execution_count": 46,
   "metadata": {},
   "outputs": [
    {
     "name": "stdout",
     "output_type": "stream",
     "text": [
      "71270.49244872906 [134.52528772]\n"
     ]
    }
   ],
   "source": [
    "from sklearn import linear_model\n",
    "\n",
    "model = linear_model.LinearRegression()\n",
    "model.fit(size, y) # Note that we do not pass the bias feature explicitly, as by default the linear model adds it (it is the \"intercept\")\n",
    "\n",
    "print(model.intercept_, model.coef_)"
   ]
  },
  {
   "cell_type": "code",
   "execution_count": 47,
   "metadata": {},
   "outputs": [
    {
     "data": {
      "text/plain": [
       "[<matplotlib.lines.Line2D at 0x1c476b08248>]"
      ]
     },
     "execution_count": 47,
     "metadata": {},
     "output_type": "execute_result"
    },
    {
     "data": {
      "image/png": "[encoded data removed]",
      "text/plain": [
       "<Figure size 432x288 with 1 Axes>"
      ]
     },
     "metadata": {
      "needs_background": "light"
     },
     "output_type": "display_data"
    }
   ],
   "source": [
    "plt.scatter(size, y)\n",
    "\n",
    "axes = plt.gca()\n",
    "x_vals = np.array(axes.get_xlim())\n",
    "y_vals = model.intercept_ + model.coef_[0] * x_vals\n",
    "plt.plot(x_vals, y_vals, 'r--')"
   ]
  },
  {
   "cell_type": "code",
   "execution_count": 48,
   "metadata": {},
   "outputs": [
    {
     "data": {
      "text/plain": [
       "array([205795.78016897, 407583.71174933, 501751.4131535 , 609371.64332969])"
      ]
     },
     "execution_count": 48,
     "metadata": {},
     "output_type": "execute_result"
    }
   ],
   "source": [
    "#predict values on the training set\n",
    "test_sizes = np.array([1000, 2500, 3200, 4000])\n",
    "test_sizes = test_sizes.reshape(-1, 1)\n",
    "\n",
    "model.predict(test_sizes)"
   ]
  },
  {
   "cell_type": "markdown",
   "metadata": {},
   "source": [
    "Now we can repeat the process, but using the standard scaler of scikit-learn to standardise the features before we start: https://scikit-learn.org/stable/modules/generated/sklearn.preprocessing.StandardScaler.html"
   ]
  },
  {
   "cell_type": "code",
   "execution_count": 49,
   "metadata": {},
   "outputs": [
    {
     "name": "stdout",
     "output_type": "stream",
     "text": [
      "Mean: [2000.68085106] Var: [618114.55771842]\n"
     ]
    }
   ],
   "source": [
    "from sklearn.preprocessing import StandardScaler\n",
    "\n",
    "scaler = StandardScaler()\n",
    "scaler.fit(size)\n",
    "print(\"Mean:\", scaler.mean_, \"Var:\", scaler.var_)\n",
    "size_scaled = scaler.transform(size)"
   ]
  },
  {
   "cell_type": "code",
   "execution_count": 50,
   "metadata": {},
   "outputs": [
    {
     "name": "stdout",
     "output_type": "stream",
     "text": [
      "340412.6595744681 [105764.13349282]\n"
     ]
    }
   ],
   "source": [
    "model.fit(size_scaled, y)\n",
    "\n",
    "print(model.intercept_, model.coef_)"
   ]
  },
  {
   "cell_type": "markdown",
   "metadata": {},
   "source": [
    "The `StandardScaler` object, once fit, keeps track of the way it did the scaling, and can be used again with any new data."
   ]
  },
  {
   "cell_type": "code",
   "execution_count": 51,
   "metadata": {},
   "outputs": [
    {
     "data": {
      "text/plain": [
       "array([205795.78016897, 407583.71174933, 501751.4131535 , 609371.64332969])"
      ]
     },
     "execution_count": 51,
     "metadata": {},
     "output_type": "execute_result"
    }
   ],
   "source": [
    "test_sizes = np.array([1000, 2500, 3200, 4000])\n",
    "test_sizes = test_sizes.reshape(-1, 1)\n",
    "test_sizes = scaler.transform(test_sizes) # normalise them the same way as we did for the training set, before we pass them through our model\n",
    "model.predict(test_sizes)"
   ]
  },
  {
   "cell_type": "markdown",
   "metadata": {},
   "source": [
    "### Polynomial Regression"
   ]
  },
  {
   "cell_type": "markdown",
   "metadata": {},
   "source": [
    "Read the manual page: https://scikit-learn.org/stable/modules/generated/sklearn.preprocessing.PolynomialFeatures.html"
   ]
  },
  {
   "cell_type": "code",
   "execution_count": 52,
   "metadata": {},
   "outputs": [],
   "source": [
    "from sklearn.preprocessing import PolynomialFeatures"
   ]
  },
  {
   "cell_type": "code",
   "execution_count": 53,
   "metadata": {},
   "outputs": [
    {
     "name": "stdout",
     "output_type": "stream",
     "text": [
      "(50, 1)\n",
      "(50,)\n"
     ]
    }
   ],
   "source": [
    "# Load the Polynomial dataset\n",
    "with open('PolynomialData.pkl', 'rb') as f:\n",
    "    x, y = pickle.load(f)\n",
    "\n",
    "print (x.shape)\n",
    "print (y.shape)"
   ]
  },
  {
   "cell_type": "code",
   "execution_count": 54,
   "metadata": {},
   "outputs": [
    {
     "name": "stdout",
     "output_type": "stream",
     "text": [
      "Mean: [0.044      9.159792   2.36463944] Var: [   9.157856     55.85142897 2473.0161783 ]\n"
     ]
    }
   ],
   "source": [
    "poly = PolynomialFeatures(3, include_bias = False ) # up to second degree features, but do not include the bias term (degree 0 invented feature)\n",
    "x_poly = poly.fit_transform(x)\n",
    "\n",
    "scaler = StandardScaler()\n",
    "scaler.fit(x_poly) \n",
    "print(\"Mean:\", scaler.mean_, \"Var:\", scaler.var_)\n",
    "x_poly = scaler.transform(x_poly)"
   ]
  },
  {
   "cell_type": "code",
   "execution_count": 55,
   "metadata": {},
   "outputs": [
    {
     "data": {
      "text/plain": [
       "LinearRegression()"
      ]
     },
     "execution_count": 55,
     "metadata": {},
     "output_type": "execute_result"
    }
   ],
   "source": [
    "model = linear_model.LinearRegression()\n",
    "model.fit(x_poly, y)"
   ]
  },
  {
   "cell_type": "code",
   "execution_count": 56,
   "metadata": {},
   "outputs": [
    {
     "name": "stdout",
     "output_type": "stream",
     "text": [
      "7.845300302600001 [  1.86012922   7.43704704 -16.56649192]\n"
     ]
    }
   ],
   "source": [
    "print(model.intercept_, model.coef_)"
   ]
  },
  {
   "cell_type": "code",
   "execution_count": 57,
   "metadata": {},
   "outputs": [
    {
     "data": {
      "text/plain": [
       "[<matplotlib.lines.Line2D at 0x1c476b40548>]"
      ]
     },
     "execution_count": 57,
     "metadata": {},
     "output_type": "execute_result"
    },
    {
     "data": {
      "image/png": "[encoded data removed]",
      "text/plain": [
       "<Figure size 432x288 with 1 Axes>"
      ]
     },
     "metadata": {
      "needs_background": "light"
     },
     "output_type": "display_data"
    }
   ],
   "source": [
    "plt.scatter(x, y)\n",
    "\n",
    "axes = plt.gca()\n",
    "x_lims = np.array(axes.get_xlim())\n",
    "xx = np.linspace(x_lims[0], x_lims[1], 100)\n",
    "\n",
    "xx_poly = poly.fit_transform(xx.reshape(-1, 1))\n",
    "xx_poly = scaler.transform(xx_poly)\n",
    "\n",
    "y_vals = model.intercept_ + model.coef_ @ xx_poly.T\n",
    "plt.plot(xx, y_vals, 'r--')"
   ]
  },
  {
   "cell_type": "code",
   "execution_count": 58,
   "metadata": {},
   "outputs": [
    {
     "data": {
      "text/plain": [
       "array([34.27472471, -0.50926569, -3.44883471])"
      ]
     },
     "execution_count": 58,
     "metadata": {},
     "output_type": "execute_result"
    }
   ],
   "source": [
    "#predict values on the training set\n",
    "x_test = np.array([-4, 0, 4])\n",
    "x_test = x_test.reshape(-1, 1)\n",
    "\n",
    "x_test_poly = poly.transform(x_test)\n",
    "x_test_poly = scaler.transform(x_test_poly)\n",
    "\n",
    "y_hat = model.predict(x_test_poly)\n",
    "y_hat"
   ]
  },
  {
   "cell_type": "markdown",
   "metadata": {},
   "source": [
    "### Logistic Regression"
   ]
  },
  {
   "cell_type": "markdown",
   "metadata": {},
   "source": [
    "Read the manual page: https://scikit-learn.org/stable/modules/generated/sklearn.linear_model.LogisticRegression.html#sklearn.linear_model.LogisticRegression"
   ]
  },
  {
   "cell_type": "code",
   "execution_count": 59,
   "metadata": {},
   "outputs": [
    {
     "name": "stdout",
     "output_type": "stream",
     "text": [
      "(117, 2)\n",
      "(117,)\n"
     ]
    }
   ],
   "source": [
    "# Load the synthetic dataset\n",
    "import pickle\n",
    "\n",
    "with open('RingsData.pkl', 'rb') as f:\n",
    "    X, y = pickle.load(f)\n",
    "\n",
    "print (X.shape)\n",
    "print (y.shape)"
   ]
  },
  {
   "cell_type": "code",
   "execution_count": 60,
   "metadata": {
    "collapsed": false,
    "jupyter": {
     "outputs_hidden": false
    }
   },
   "outputs": [
    {
     "data": {
      "image/png": "[encoded data removed]",
      "text/plain": [
       "<Figure size 432x288 with 1 Axes>"
      ]
     },
     "metadata": {
      "needs_background": "light"
     },
     "output_type": "display_data"
    }
   ],
   "source": [
    "# Plot the data\n",
    "%matplotlib inline \n",
    "import matplotlib.pyplot as plt\n",
    "\n",
    "plt.scatter(X[y==1, 0], X[y==1, 1], marker='o', c='b') #positive samples\n",
    "plt.scatter(X[y==0, 0], X[y==0, 1], marker='x', c='r') #negative samples\n",
    "plt.show()"
   ]
  },
  {
   "cell_type": "code",
   "execution_count": 61,
   "metadata": {},
   "outputs": [
    {
     "data": {
      "text/plain": [
       "array([0., 1., 1., 1., 1., 1., 1., 1., 1., 0., 0., 0., 0., 0., 0., 0., 0.,\n",
       "       0., 1., 1., 1., 1., 1., 1., 1., 0., 0., 0., 1., 1., 1., 1., 1., 1.,\n",
       "       1., 1., 1., 1., 0., 0., 0., 0., 0., 0., 0., 0., 0., 0., 0., 0., 0.,\n",
       "       0., 1., 1., 1., 1., 1., 1., 0., 0., 0., 0., 0., 0., 0., 0., 0., 0.,\n",
       "       0., 0., 0., 0., 0., 0., 0., 0., 0., 0., 0., 0., 0., 1., 1., 1., 1.,\n",
       "       1., 1., 1., 1., 1., 1., 1., 0., 0., 1., 0., 0., 0., 0., 0., 0., 0.,\n",
       "       1., 1., 1., 1., 1., 1., 1., 1., 1., 1., 1., 1., 1., 1., 0.])"
      ]
     },
     "execution_count": 61,
     "metadata": {},
     "output_type": "execute_result"
    }
   ],
   "source": [
    "from sklearn.linear_model import LogisticRegression\n",
    "clf = LogisticRegression(random_state=0, max_iter = 10000)\n",
    "clf.fit(X, y)\n",
    "clf.predict(X)"
   ]
  },
  {
   "cell_type": "code",
   "execution_count": 62,
   "metadata": {},
   "outputs": [
    {
     "data": {
      "text/plain": [
       "array([[0.50682367, 0.49317633],\n",
       "       [0.49834682, 0.50165318],\n",
       "       [0.49131995, 0.50868005],\n",
       "       [0.48100745, 0.51899255],\n",
       "       [0.47277988, 0.52722012]])"
      ]
     },
     "execution_count": 62,
     "metadata": {},
     "output_type": "execute_result"
    }
   ],
   "source": [
    "clf.predict_proba(X[:5]) # for the first 5 data points"
   ]
  },
  {
   "cell_type": "code",
   "execution_count": 63,
   "metadata": {},
   "outputs": [
    {
     "data": {
      "text/plain": [
       "0.5470085470085471"
      ]
     },
     "execution_count": 63,
     "metadata": {},
     "output_type": "execute_result"
    }
   ],
   "source": [
    "# calculate accuracy\n",
    "clf.score(X, y)"
   ]
  },
  {
   "cell_type": "markdown",
   "metadata": {},
   "source": [
    "This is no good, as expected there is no linear decision boundary that separates well the two classes. Now let's create polynomial features"
   ]
  },
  {
   "cell_type": "code",
   "execution_count": 64,
   "metadata": {
    "tags": []
   },
   "outputs": [
    {
     "data": {
      "text/plain": [
       "(117, 136)"
      ]
     },
     "execution_count": 64,
     "metadata": {},
     "output_type": "execute_result"
    }
   ],
   "source": [
    "poly = PolynomialFeatures(15) # up to second degree features\n",
    "x_poly = poly.fit_transform(X)\n",
    "x_poly.shape"
   ]
  },
  {
   "cell_type": "code",
   "execution_count": 65,
   "metadata": {},
   "outputs": [
    {
     "name": "stderr",
     "output_type": "stream",
     "text": [
      "C:\\ProgramData\\Anaconda3\\envs\\analysis\\lib\\site-packages\\sklearn\\linear_model\\_logistic.py:818: ConvergenceWarning: lbfgs failed to converge (status=1):\n",
      "STOP: TOTAL NO. of ITERATIONS REACHED LIMIT.\n",
      "\n",
      "Increase the number of iterations (max_iter) or scale the data as shown in:\n",
      "    https://scikit-learn.org/stable/modules/preprocessing.html\n",
      "Please also refer to the documentation for alternative solver options:\n",
      "    https://scikit-learn.org/stable/modules/linear_model.html#logistic-regression\n",
      "  extra_warning_msg=_LOGISTIC_SOLVER_CONVERGENCE_MSG,\n"
     ]
    },
    {
     "data": {
      "text/plain": [
       "array([1., 1., 1., 1., 1., 1., 1., 1., 1., 1., 1., 1., 1., 1., 1., 1., 1.,\n",
       "       1., 1., 1., 1., 1., 1., 1., 0., 1., 1., 1., 1., 1., 1., 1., 1., 1.,\n",
       "       1., 1., 1., 1., 1., 1., 1., 1., 1., 1., 1., 1., 1., 1., 1., 1., 1.,\n",
       "       1., 1., 1., 1., 1., 1., 1., 0., 0., 0., 0., 0., 0., 0., 0., 0., 0.,\n",
       "       0., 0., 0., 0., 0., 0., 0., 0., 0., 0., 0., 0., 0., 0., 0., 1., 0.,\n",
       "       0., 0., 0., 0., 0., 0., 0., 0., 0., 0., 0., 0., 0., 0., 0., 0., 0.,\n",
       "       0., 0., 1., 0., 0., 0., 0., 0., 0., 0., 0., 0., 0., 0., 0.])"
      ]
     },
     "execution_count": 65,
     "metadata": {},
     "output_type": "execute_result"
    }
   ],
   "source": [
    "from sklearn.linear_model import LogisticRegression\n",
    "clf = LogisticRegression(random_state=0, max_iter = 10000, penalty = 'none') # without regularisation, note that it takes ages to converge (see the warning message!)\n",
    "clf.fit(x_poly, y)\n",
    "clf.predict(x_poly)"
   ]
  },
  {
   "cell_type": "code",
   "execution_count": 66,
   "metadata": {},
   "outputs": [
    {
     "data": {
      "text/plain": [
       "array([[7.52532372e-04, 9.99247468e-01],\n",
       "       [2.08721929e-14, 1.00000000e+00],\n",
       "       [6.66133815e-16, 1.00000000e+00],\n",
       "       [4.38408421e-10, 1.00000000e+00],\n",
       "       [1.04611763e-04, 9.99895388e-01]])"
      ]
     },
     "execution_count": 66,
     "metadata": {},
     "output_type": "execute_result"
    }
   ],
   "source": [
    "clf.predict_proba(x_poly[:5]) # for the first 5 data points"
   ]
  },
  {
   "cell_type": "code",
   "execution_count": 67,
   "metadata": {},
   "outputs": [
    {
     "data": {
      "text/plain": [
       "0.9743589743589743"
      ]
     },
     "execution_count": 67,
     "metadata": {},
     "output_type": "execute_result"
    }
   ],
   "source": [
    "# calculate accuracy\n",
    "clf.score(x_poly, y)"
   ]
  },
  {
   "cell_type": "markdown",
   "metadata": {},
   "source": [
    "We seem to be overfitting. Finally, let's add L2 regularisation"
   ]
  },
  {
   "cell_type": "code",
   "execution_count": 68,
   "metadata": {},
   "outputs": [
    {
     "data": {
      "text/plain": [
       "array([1., 1., 1., 1., 1., 1., 1., 1., 1., 1., 1., 1., 1., 1., 1., 1., 1.,\n",
       "       1., 1., 1., 1., 1., 0., 1., 1., 1., 1., 0., 1., 1., 0., 1., 1., 1.,\n",
       "       1., 1., 1., 1., 1., 1., 1., 1., 1., 1., 1., 1., 0., 1., 1., 1., 1.,\n",
       "       1., 1., 1., 1., 1., 1., 1., 0., 1., 1., 0., 0., 1., 0., 0., 0., 0.,\n",
       "       0., 0., 0., 0., 0., 0., 0., 0., 1., 1., 0., 0., 1., 1., 0., 1., 0.,\n",
       "       0., 0., 0., 1., 0., 0., 1., 1., 0., 0., 0., 0., 0., 0., 0., 0., 0.,\n",
       "       0., 0., 1., 0., 1., 1., 0., 0., 0., 0., 0., 0., 1., 0., 0.])"
      ]
     },
     "execution_count": 68,
     "metadata": {},
     "output_type": "execute_result"
    }
   ],
   "source": [
    "from sklearn.linear_model import LogisticRegression\n",
    "clf = LogisticRegression(random_state=0, max_iter = 10000, penalty = 'l2')\n",
    "clf.fit(x_poly, y)\n",
    "clf.predict(x_poly)"
   ]
  },
  {
   "cell_type": "code",
   "execution_count": 69,
   "metadata": {},
   "outputs": [
    {
     "data": {
      "text/plain": [
       "array([[0.27741371, 0.72258629],\n",
       "       [0.25981727, 0.74018273],\n",
       "       [0.27652901, 0.72347099],\n",
       "       [0.2642877 , 0.7357123 ],\n",
       "       [0.34582692, 0.65417308]])"
      ]
     },
     "execution_count": 69,
     "metadata": {},
     "output_type": "execute_result"
    }
   ],
   "source": [
    "clf.predict_proba(x_poly[:5]) # for the first 5 data points"
   ]
  },
  {
   "cell_type": "code",
   "execution_count": 70,
   "metadata": {},
   "outputs": [
    {
     "data": {
      "text/plain": [
       "0.8376068376068376"
      ]
     },
     "execution_count": 70,
     "metadata": {},
     "output_type": "execute_result"
    }
   ],
   "source": [
    "# calculate accuracy\n",
    "clf.score(x_poly, y)"
   ]
  },
  {
   "cell_type": "markdown",
   "metadata": {},
   "source": [
    "Do a confusion matrix. Read the manual page here: https://scikit-learn.org/stable/modules/generated/sklearn.metrics.confusion_matrix.html"
   ]
  },
  {
   "cell_type": "code",
   "execution_count": 71,
   "metadata": {},
   "outputs": [
    {
     "data": {
      "text/plain": [
       "array([[44, 15],\n",
       "       [ 4, 54]], dtype=int64)"
      ]
     },
     "execution_count": 71,
     "metadata": {},
     "output_type": "execute_result"
    }
   ],
   "source": [
    "from sklearn.metrics import confusion_matrix\n",
    "\n",
    "y_pred = clf.predict(x_poly)\n",
    "confusion_matrix(y, y_pred)"
   ]
  },
  {
   "cell_type": "markdown",
   "metadata": {},
   "source": [
    "## 1.6 Training, Validation and Test set"
   ]
  },
  {
   "cell_type": "markdown",
   "metadata": {},
   "source": [
    "Up to now we have been calculating performance on the training set. Here we will see how we can manage different dataset splits using scikit-learn."
   ]
  },
  {
   "cell_type": "code",
   "execution_count": 72,
   "metadata": {},
   "outputs": [
    {
     "name": "stdout",
     "output_type": "stream",
     "text": [
      "(117, 2)\n",
      "(117,)\n"
     ]
    }
   ],
   "source": [
    "# Load the synthetic dataset\n",
    "import pickle\n",
    "\n",
    "with open('RingsData.pkl', 'rb') as f:\n",
    "    X, y = pickle.load(f)\n",
    "\n",
    "print (X.shape)\n",
    "print (y.shape)"
   ]
  },
  {
   "cell_type": "markdown",
   "metadata": {},
   "source": [
    "<font color=blue>**Exercise:** Using the classification dataset above. Split your dataset into a training and test set (80% random). Have a look at the manual page here: https://scikit-learn.org/stable/modules/generated/sklearn.model_selection.train_test_split.html</font>"
   ]
  },
  {
   "cell_type": "code",
   "execution_count": 73,
   "metadata": {},
   "outputs": [],
   "source": [
    "from sklearn.model_selection import train_test_split"
   ]
  },
  {
   "cell_type": "code",
   "execution_count": 74,
   "metadata": {},
   "outputs": [],
   "source": [
    "# Your Code Here\n",
    "\n",
    "X_train, X_test, y_train, y_test = train_test_split(X, y, test_size=0.20, random_state=42)"
   ]
  },
  {
   "cell_type": "markdown",
   "metadata": {},
   "source": [
    "<font color=blue>**Exercise:** Use a polynomial model like before with logistic regression. Train it on the training set without regularisation. Then test on training and test set. Plot the final costs in the same plot for different degrees of the polynomial model, from 1 to 15.</font>"
   ]
  },
  {
   "cell_type": "code",
   "execution_count": 75,
   "metadata": {
    "tags": []
   },
   "outputs": [
    {
     "name": "stderr",
     "output_type": "stream",
     "text": [
      "C:\\ProgramData\\Anaconda3\\envs\\analysis\\lib\\site-packages\\sklearn\\linear_model\\_logistic.py:818: ConvergenceWarning: lbfgs failed to converge (status=1):\n",
      "STOP: TOTAL NO. of ITERATIONS REACHED LIMIT.\n",
      "\n",
      "Increase the number of iterations (max_iter) or scale the data as shown in:\n",
      "    https://scikit-learn.org/stable/modules/preprocessing.html\n",
      "Please also refer to the documentation for alternative solver options:\n",
      "    https://scikit-learn.org/stable/modules/linear_model.html#logistic-regression\n",
      "  extra_warning_msg=_LOGISTIC_SOLVER_CONVERGENCE_MSG,\n",
      "C:\\ProgramData\\Anaconda3\\envs\\analysis\\lib\\site-packages\\sklearn\\linear_model\\_logistic.py:818: ConvergenceWarning: lbfgs failed to converge (status=1):\n",
      "STOP: TOTAL NO. of ITERATIONS REACHED LIMIT.\n",
      "\n",
      "Increase the number of iterations (max_iter) or scale the data as shown in:\n",
      "    https://scikit-learn.org/stable/modules/preprocessing.html\n",
      "Please also refer to the documentation for alternative solver options:\n",
      "    https://scikit-learn.org/stable/modules/linear_model.html#logistic-regression\n",
      "  extra_warning_msg=_LOGISTIC_SOLVER_CONVERGENCE_MSG,\n",
      "C:\\ProgramData\\Anaconda3\\envs\\analysis\\lib\\site-packages\\sklearn\\linear_model\\_logistic.py:818: ConvergenceWarning: lbfgs failed to converge (status=1):\n",
      "STOP: TOTAL NO. of ITERATIONS REACHED LIMIT.\n",
      "\n",
      "Increase the number of iterations (max_iter) or scale the data as shown in:\n",
      "    https://scikit-learn.org/stable/modules/preprocessing.html\n",
      "Please also refer to the documentation for alternative solver options:\n",
      "    https://scikit-learn.org/stable/modules/linear_model.html#logistic-regression\n",
      "  extra_warning_msg=_LOGISTIC_SOLVER_CONVERGENCE_MSG,\n",
      "C:\\ProgramData\\Anaconda3\\envs\\analysis\\lib\\site-packages\\sklearn\\linear_model\\_logistic.py:818: ConvergenceWarning: lbfgs failed to converge (status=1):\n",
      "STOP: TOTAL NO. of ITERATIONS REACHED LIMIT.\n",
      "\n",
      "Increase the number of iterations (max_iter) or scale the data as shown in:\n",
      "    https://scikit-learn.org/stable/modules/preprocessing.html\n",
      "Please also refer to the documentation for alternative solver options:\n",
      "    https://scikit-learn.org/stable/modules/linear_model.html#logistic-regression\n",
      "  extra_warning_msg=_LOGISTIC_SOLVER_CONVERGENCE_MSG,\n",
      "C:\\ProgramData\\Anaconda3\\envs\\analysis\\lib\\site-packages\\sklearn\\linear_model\\_logistic.py:818: ConvergenceWarning: lbfgs failed to converge (status=1):\n",
      "STOP: TOTAL NO. of ITERATIONS REACHED LIMIT.\n",
      "\n",
      "Increase the number of iterations (max_iter) or scale the data as shown in:\n",
      "    https://scikit-learn.org/stable/modules/preprocessing.html\n",
      "Please also refer to the documentation for alternative solver options:\n",
      "    https://scikit-learn.org/stable/modules/linear_model.html#logistic-regression\n",
      "  extra_warning_msg=_LOGISTIC_SOLVER_CONVERGENCE_MSG,\n"
     ]
    }
   ],
   "source": [
    "# Your Code Here\n",
    "\n",
    "from sklearn.linear_model import LogisticRegression\n",
    "\n",
    "AccTrain = []\n",
    "AccTest = []\n",
    "\n",
    "for deg in range(1, 15):\n",
    "    poly = PolynomialFeatures(deg) # up to second degree features\n",
    "    x_poly_train = poly.fit_transform(X_train)\n",
    "    x_poly_test = poly.fit_transform(X_test)\n",
    "\n",
    "    clf = LogisticRegression(random_state=0, max_iter = 10000, penalty = 'none') # without regularisation, note that it takes ages to converge, if at all\n",
    "    clf.fit(x_poly_train, y_train)\n",
    "\n",
    "    # calculate accuracy on the training set\n",
    "    AccTrain.append(clf.score(x_poly_train, y_train))\n",
    "\n",
    "    # calculate accuracy on the test set\n",
    "    AccTest.append(clf.score(x_poly_test, y_test))"
   ]
  },
  {
   "cell_type": "code",
   "execution_count": 76,
   "metadata": {},
   "outputs": [
    {
     "data": {
      "text/plain": [
       "[<matplotlib.lines.Line2D at 0x1c4769bb088>]"
      ]
     },
     "execution_count": 76,
     "metadata": {},
     "output_type": "execute_result"
    },
    {
     "data": {
      "image/png": "[encoded data removed]",
      "text/plain": [
       "<Figure size 432x288 with 1 Axes>"
      ]
     },
     "metadata": {
      "needs_background": "light"
     },
     "output_type": "display_data"
    }
   ],
   "source": [
    "plt.plot(range(len(AccTrain)), AccTrain)\n",
    "plt.plot(range(len(AccTest)), AccTest)"
   ]
  },
  {
   "cell_type": "markdown",
   "metadata": {},
   "source": [
    "<font color=blue>**Exercise:** What do you observe?</font>"
   ]
  },
  {
   "cell_type": "markdown",
   "metadata": {},
   "source": [
    "---\n",
    "\n",
    "*Your Answer Here*\n",
    "\n",
    "*At the beginning, improvements in the model cause higher accuracy on the training set which is also reflected in higher accuracy on the test set. Eventually though, we start overfitting, and we observe that accuracy keeps increasing in the training set, but it goes down in the test set. This is a clear indication of overfitting.*\n",
    "\n",
    "---"
   ]
  },
  {
   "cell_type": "markdown",
   "metadata": {},
   "source": [
    "<font color = blue>**Exercise:** Now do 5-fold cross-validation. Then report the average performance and its standard deviation</font>\n",
    "\n",
    "See the manual page at: https://scikit-learn.org/stable/modules/generated/sklearn.model_selection.cross_validate.html"
   ]
  },
  {
   "cell_type": "code",
   "execution_count": 77,
   "metadata": {
    "tags": []
   },
   "outputs": [],
   "source": [
    "# Your Code Here\n",
    "\n",
    "from sklearn.model_selection import cross_validate\n",
    "\n",
    "poly = PolynomialFeatures(15)\n",
    "x_poly = poly.fit_transform(X)\n",
    "\n",
    "cv_results = cross_validate(clf, x_poly, y, cv=5)"
   ]
  },
  {
   "cell_type": "code",
   "execution_count": 78,
   "metadata": {},
   "outputs": [
    {
     "data": {
      "text/plain": [
       "{'fit_time': array([0.60065389, 0.08395243, 0.25785351, 1.12435341, 0.32484603]),\n",
       " 'score_time': array([0.        , 0.00099921, 0.        , 0.        , 0.        ]),\n",
       " 'test_score': array([0.70833333, 0.625     , 0.56521739, 0.56521739, 0.56521739])}"
      ]
     },
     "execution_count": 78,
     "metadata": {},
     "output_type": "execute_result"
    }
   ],
   "source": [
    "cv_results"
   ]
  },
  {
   "cell_type": "code",
   "execution_count": 79,
   "metadata": {},
   "outputs": [
    {
     "name": "stdout",
     "output_type": "stream",
     "text": [
      "Mean accuracy: 0.6057971014492753 \t Std: 0.0562540110357826\n"
     ]
    }
   ],
   "source": [
    "print(\"Mean accuracy:\", np.mean(cv_results['test_score']), \"\\t Std:\", np.std(cv_results['test_score']))"
   ]
  },
  {
   "cell_type": "code",
   "execution_count": null,
   "metadata": {},
   "outputs": [],
   "source": []
  }
 ],
 "metadata": {
  "kernelspec": {
   "display_name": "analysis",
   "language": "python",
   "name": "analysis"
  },
  "language_info": {
   "codemirror_mode": {
    "name": "ipython",
    "version": 3
   },
   "file_extension": ".py",
   "mimetype": "text/x-python",
   "name": "python",
   "nbconvert_exporter": "python",
   "pygments_lexer": "ipython3",
   "version": "3.7.9"
  }
 },
 "nbformat": 4,
 "nbformat_minor": 4
}
