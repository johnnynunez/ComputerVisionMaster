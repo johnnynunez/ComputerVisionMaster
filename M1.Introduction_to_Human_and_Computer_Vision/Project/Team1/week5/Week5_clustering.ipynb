{
 "cells": [
  {
   "cell_type": "code",
   "execution_count": 1,
   "metadata": {},
   "outputs": [
    {
     "name": "stderr",
     "output_type": "stream",
     "text": [
      "/var/folders/zj/hvgbgg5j4qdc72qhxpzc2x2h0000gn/T/ipykernel_20329/3738205900.py:5: DeprecationWarning: the imp module is deprecated in favour of importlib and slated for removal in Python 3.12; see the module's documentation for alternative uses\n",
      "  from imp import reload\n"
     ]
    }
   ],
   "source": [
    "import os\n",
    "import sys\n",
    "sys.path.insert(1, os.path.join(sys.path[0], '..'))\n",
    "\n",
    "from imp import reload\n",
    "import os\n",
    "import numpy as np\n",
    "import sys\n",
    "\n",
    "from data_utils import DataHandler\n",
    "import image_features\n",
    "import similarities\n",
    "import histogram_processing\n",
    "import clustering\n",
    "\n",
    "N_PROCESS = 10"
   ]
  },
  {
   "cell_type": "markdown",
   "metadata": {},
   "source": [
    "# LOAD DATA"
   ]
  },
  {
   "cell_type": "code",
   "execution_count": 2,
   "metadata": {},
   "outputs": [
    {
     "name": "stdout",
     "output_type": "stream",
     "text": [
      "Initialized DataHandler with 2 processes\n"
     ]
    },
    {
     "name": "stderr",
     "output_type": "stream",
     "text": [
      "Loading BBDD Data...:  27%|██▋       | 78/287 [00:01<00:03, 64.39it/s]/Users/johnny/miniconda3/envs/Team1/lib/python3.10/site-packages/joblib/externals/loky/process_executor.py:700: UserWarning: A worker stopped while some jobs were given to the executor. This can be caused by a too short worker timeout or by a memory leak.\n",
      "  warnings.warn(\n",
      "Loading BBDD Data...: 100%|██████████| 287/287 [00:05<00:00, 54.42it/s]\n"
     ]
    },
    {
     "name": "stdout",
     "output_type": "stream",
     "text": [
      "../data/BBDD/ read: 287 images\n"
     ]
    }
   ],
   "source": [
    "data_handler = DataHandler()\n",
    "\n",
    "# Load images:\n",
    "db, db_files = data_handler.load_images(\n",
    "    folder=\"../data/BBDD/\", extension=\".jpg\", desc=\"Loading BBDD Data...\")"
   ]
  },
  {
   "cell_type": "markdown",
   "metadata": {},
   "source": [
    "### Texture based clustering\n",
    "#### HoG"
   ]
  },
  {
   "cell_type": "code",
   "execution_count": 3,
   "metadata": {},
   "outputs": [],
   "source": [
    "import sklearn.decomposition\n",
    "\n",
    "def PCA_decomposition(feature_matrix: np.array):\n",
    "    PCA_decomp = sklearn.decomposition.PCA(\n",
    "        n_components=min(15, min(feature_matrix.shape[0], feature_matrix.shape[1])),\n",
    "        random_state=1234,\n",
    "    )\n",
    "    feature_matrix_PCA = PCA_decomp.fit_transform(feature_matrix.reshape(feature_matrix.shape[0], -1))\n",
    "    return feature_matrix_PCA"
   ]
  },
  {
   "cell_type": "code",
   "execution_count": 4,
   "metadata": {},
   "outputs": [
    {
     "name": "stderr",
     "output_type": "stream",
     "text": [
      "Histograms of Gradients (HoG) from BBDD...: 100%|██████████| 287/287 [00:46<00:00,  6.19it/s]\n"
     ]
    }
   ],
   "source": [
    "db_texture_matrix = image_features.hog_batch(images = db[:], mssg=\"Histograms of Gradients (HoG) from BBDD...\")\n",
    "db_texture_matrix = np.array([feats.flatten() for feats in db_texture_matrix])\n",
    "db_texture_matrix = PCA_decomposition(db_texture_matrix)"
   ]
  },
  {
   "cell_type": "code",
   "execution_count": 5,
   "metadata": {},
   "outputs": [
    {
     "name": "stdout",
     "output_type": "stream",
     "text": [
      "Found Clusters!\n"
     ]
    }
   ],
   "source": [
    "img_clusters = clustering.cluster_kmeans(db[:], db_texture_matrix, 5)"
   ]
  },
  {
   "cell_type": "code",
   "execution_count": 6,
   "metadata": {},
   "outputs": [
    {
     "name": "stdout",
     "output_type": "stream",
     "text": [
      "Storing images in their respective cluster folder...\n"
     ]
    }
   ],
   "source": [
    "clustering.save_clusters(img_clusters, desc_method=\"HOG\")"
   ]
  },
  {
   "cell_type": "markdown",
   "metadata": {},
   "source": [
    "#### LBP"
   ]
  },
  {
   "cell_type": "code",
   "execution_count": 7,
   "metadata": {},
   "outputs": [
    {
     "name": "stderr",
     "output_type": "stream",
     "text": [
      "LBP from BBDD...:  24%|██▍       | 70/287 [00:02<00:07, 30.91it/s]/Users/johnny/miniconda3/envs/Team1/lib/python3.10/site-packages/joblib/externals/loky/process_executor.py:700: UserWarning: A worker stopped while some jobs were given to the executor. This can be caused by a too short worker timeout or by a memory leak.\n",
      "  warnings.warn(\n",
      "LBP from BBDD...: 100%|██████████| 287/287 [00:11<00:00, 25.78it/s]\n"
     ]
    }
   ],
   "source": [
    "db_texture_matrix = image_features.lbp_batch(images = db[:], histogram=False, mssg=\"LBP from BBDD...\", block=False)\n",
    "db_texture_matrix = PCA_decomposition(db_texture_matrix)"
   ]
  },
  {
   "cell_type": "code",
   "execution_count": 8,
   "metadata": {},
   "outputs": [
    {
     "name": "stdout",
     "output_type": "stream",
     "text": [
      "Found Clusters!\n",
      "Storing images in their respective cluster folder...\n"
     ]
    }
   ],
   "source": [
    "reload(clustering)\n",
    "img_clusters = clustering.cluster_kmeans(db[:], db_texture_matrix, 5)\n",
    "clustering.save_clusters(img_clusters, desc_method=\"LBP\")"
   ]
  },
  {
   "cell_type": "markdown",
   "metadata": {},
   "source": [
    "## Color Based Clustering"
   ]
  },
  {
   "cell_type": "markdown",
   "metadata": {},
   "source": [
    "#### RGB"
   ]
  },
  {
   "cell_type": "code",
   "execution_count": 9,
   "metadata": {},
   "outputs": [
    {
     "name": "stderr",
     "output_type": "stream",
     "text": [
      "Generating features for BBDD dataset...(with N_PROCESS = 10):  14%|█▍        | 40/287 [00:01<00:12, 19.89it/s]/Users/johnny/miniconda3/envs/Team1/lib/python3.10/site-packages/joblib/externals/loky/process_executor.py:700: UserWarning: A worker stopped while some jobs were given to the executor. This can be caused by a too short worker timeout or by a memory leak.\n",
      "  warnings.warn(\n",
      "Generating features for BBDD dataset...(with N_PROCESS = 10): 100%|██████████| 287/287 [00:24<00:00, 11.74it/s]\n"
     ]
    }
   ],
   "source": [
    "db_feature_matrix = histogram_processing.generate_feature_matrix(\n",
    "    dataset=db[:],\n",
    "    grayscale=False,\n",
    "    n_levels=6,\n",
    "    n_bins=6,\n",
    "    RGB=True,\n",
    "    CieLab=False,\n",
    "    HSV=False,\n",
    "    YCbCr=False,\n",
    "    histogram3d=True,\n",
    "    mssg=\"Generating features for BBDD dataset...(with N_PROCESS = {})\".format(\n",
    "        N_PROCESS),\n",
    "    N_PROCESS=N_PROCESS,\n",
    ")\n",
    "db_feature_matrix = PCA_decomposition(db_feature_matrix)"
   ]
  },
  {
   "cell_type": "code",
   "execution_count": 10,
   "metadata": {},
   "outputs": [
    {
     "name": "stdout",
     "output_type": "stream",
     "text": [
      "Found Clusters!\n",
      "Storing images in their respective cluster folder...\n"
     ]
    }
   ],
   "source": [
    "reload(clustering)\n",
    "img_clusters = clustering.cluster_kmeans(db[:], db_feature_matrix, 5)\n",
    "clustering.save_clusters(img_clusters, desc_method=\"RGB\")"
   ]
  },
  {
   "cell_type": "markdown",
   "metadata": {},
   "source": [
    "#### LAB"
   ]
  },
  {
   "cell_type": "code",
   "execution_count": 11,
   "metadata": {},
   "outputs": [
    {
     "name": "stderr",
     "output_type": "stream",
     "text": [
      "Generating features for BBDD dataset...(with N_PROCESS = 10):  17%|█▋        | 50/287 [00:04<00:24,  9.66it/s]/Users/johnny/miniconda3/envs/Team1/lib/python3.10/site-packages/joblib/externals/loky/process_executor.py:700: UserWarning: A worker stopped while some jobs were given to the executor. This can be caused by a too short worker timeout or by a memory leak.\n",
      "  warnings.warn(\n",
      "Generating features for BBDD dataset...(with N_PROCESS = 10): 100%|██████████| 287/287 [00:34<00:00,  8.40it/s]\n"
     ]
    }
   ],
   "source": [
    "db_feature_matrix = histogram_processing.generate_feature_matrix(\n",
    "    dataset=db[:],\n",
    "    grayscale=False,\n",
    "    n_levels=6,\n",
    "    n_bins=6,\n",
    "    RGB=False,\n",
    "    CieLab=True,\n",
    "    HSV=False,\n",
    "    YCbCr=False,\n",
    "    histogram3d=True,\n",
    "    mssg=\"Generating features for BBDD dataset...(with N_PROCESS = {})\".format(N_PROCESS),\n",
    "    N_PROCESS=N_PROCESS,\n",
    ")\n",
    "db_feature_matrix = PCA_decomposition(db_feature_matrix)"
   ]
  },
  {
   "cell_type": "code",
   "execution_count": 12,
   "metadata": {},
   "outputs": [
    {
     "name": "stdout",
     "output_type": "stream",
     "text": [
      "Found Clusters!\n",
      "Storing images in their respective cluster folder...\n"
     ]
    }
   ],
   "source": [
    "img_clusters = clustering.cluster_kmeans(db[:], db_feature_matrix, 5)\n",
    "clustering.save_clusters(img_clusters, desc_method=\"LAB\")"
   ]
  },
  {
   "cell_type": "markdown",
   "metadata": {},
   "source": [
    "## Keypoint based clustering"
   ]
  },
  {
   "cell_type": "markdown",
   "metadata": {},
   "source": [
    "### ORB"
   ]
  },
  {
   "cell_type": "code",
   "execution_count": 13,
   "metadata": {},
   "outputs": [
    {
     "name": "stderr",
     "output_type": "stream",
     "text": [
      "Computing ORB from BBDD...: 100%|██████████| 287/287 [00:37<00:00,  7.71it/s]\n"
     ]
    }
   ],
   "source": [
    "db_keypoints_orb, db_features_orb = list(\n",
    "    image_features.orb_batch(\n",
    "        images=db[:], mssg=\"Computing ORB from BBDD...\"\n",
    "    )\n",
    ")"
   ]
  },
  {
   "cell_type": "code",
   "execution_count": 14,
   "metadata": {},
   "outputs": [
    {
     "name": "stderr",
     "output_type": "stream",
     "text": [
      "                                                                                         \r"
     ]
    }
   ],
   "source": [
    "import cv2\n",
    "n_matches_orb = similarities.compute_matches_batch(\n",
    "    descriptor1=db_features_orb,\n",
    "    descriptor2=db_features_orb,\n",
    "    method=\"BF\",\n",
    "    similarity_measure=cv2.NORM_L2,\n",
    "    k=2,\n",
    "    plot=False,\n",
    "    N_PROCESS=2,\n",
    ")\n",
    "n_matches_orb_sym = np.triu(n_matches_orb, k=0) + np.triu(n_matches_orb, k=1).T\n",
    "distances_orb_sym = np.amax(n_matches_orb_sym) - n_matches_orb_sym"
   ]
  },
  {
   "cell_type": "code",
   "execution_count": 15,
   "metadata": {},
   "outputs": [
    {
     "name": "stdout",
     "output_type": "stream",
     "text": [
      "Found Clusters!\n",
      "Storing images in their respective cluster folder...\n"
     ]
    }
   ],
   "source": [
    "img_clusters = clustering.cluster_agglomerative(imgs=db[:], features=distances_orb_sym, cluster_num=5, affinity=\"precomputed\")\n",
    "clustering.save_clusters(img_clusters, desc_method=\"ORB\")"
   ]
  },
  {
   "cell_type": "markdown",
   "metadata": {},
   "source": [
    "## Frequency based clustering"
   ]
  },
  {
   "cell_type": "code",
   "execution_count": 16,
   "metadata": {},
   "outputs": [
    {
     "name": "stderr",
     "output_type": "stream",
     "text": [
      "Computing block-based DCT for each of the images...:  24%|██▍       | 70/287 [00:02<00:06, 34.59it/s]/Users/johnny/miniconda3/envs/Team1/lib/python3.10/site-packages/joblib/externals/loky/process_executor.py:700: UserWarning: A worker stopped while some jobs were given to the executor. This can be caused by a too short worker timeout or by a memory leak.\n",
      "  warnings.warn(\n",
      "Computing block-based DCT for each of the images...: 100%|██████████| 287/287 [00:11<00:00, 24.66it/s]\n"
     ]
    }
   ],
   "source": [
    "dct_imgs = image_features.dct_batch(db[:], mssg=\"Computing block-based DCT for each of the images...\", quantize=False, N_PROCESS=N_PROCESS)\n",
    "dct_imgs = np.array([elem.flatten() for elem in dct_imgs])\n",
    "dct_imgs = PCA_decomposition(dct_imgs)"
   ]
  },
  {
   "cell_type": "code",
   "execution_count": 17,
   "metadata": {},
   "outputs": [
    {
     "name": "stdout",
     "output_type": "stream",
     "text": [
      "Found Clusters!\n",
      "Storing images in their respective cluster folder...\n"
     ]
    }
   ],
   "source": [
    "img_clusters = clustering.cluster_agglomerative(imgs=db[:], features=dct_imgs, cluster_num=5, affinity=\"euclidean\")\n",
    "clustering.save_clusters(img_clusters, desc_method=\"DCT\")"
   ]
  }
 ],
 "metadata": {
  "kernelspec": {
   "display_name": "Python 3.8.10 64-bit",
   "language": "python",
   "name": "python3"
  },
  "language_info": {
   "codemirror_mode": {
    "name": "ipython",
    "version": 3
   },
   "file_extension": ".py",
   "mimetype": "text/x-python",
   "name": "python",
   "nbconvert_exporter": "python",
   "pygments_lexer": "ipython3",
   "version": "3.8.10"
  },
  "orig_nbformat": 4,
  "vscode": {
   "interpreter": {
    "hash": "916dbcbb3f70747c44a77c7bcd40155683ae19c65e1c03b4aa3499c5328201f1"
   }
  }
 },
 "nbformat": 4,
 "nbformat_minor": 2
}
