{
  "nbformat": 4,
  "nbformat_minor": 0,
  "metadata": {
    "accelerator": "GPU",
    "colab": {
      "name": "CNN_MNIST_Localization.ipynb",
      "provenance": [],
      "collapsed_sections": []
    },
    "kernelspec": {
      "display_name": "Python 3",
      "language": "python",
      "name": "python3"
    },
    "language_info": {
      "codemirror_mode": {
        "name": "ipython",
        "version": 3
      },
      "file_extension": ".py",
      "mimetype": "text/x-python",
      "name": "python",
      "nbconvert_exporter": "python",
      "pygments_lexer": "ipython3",
      "version": "3.6.9"
    },
    "widgets": {
      "application/vnd.jupyter.widget-state+json": {
        "4beabc67982a418782b350aee2919b6a": {
          "model_module": "@jupyter-widgets/controls",
          "model_name": "HBoxModel",
          "model_module_version": "1.5.0",
          "state": {
            "_view_name": "HBoxView",
            "_dom_classes": [],
            "_model_name": "HBoxModel",
            "_view_module": "@jupyter-widgets/controls",
            "_model_module_version": "1.5.0",
            "_view_count": null,
            "_view_module_version": "1.5.0",
            "box_style": "",
            "layout": "IPY_MODEL_00ca77345c0748c4b607836d55954bb3",
            "_model_module": "@jupyter-widgets/controls",
            "children": [
              "IPY_MODEL_3e7e1fd0ef5a43d1bfaa9d628b53dd5c",
              "IPY_MODEL_1ab865bab7f44c71bef67b3940e6de6f",
              "IPY_MODEL_206704476e59456cb7f44655e868fc19"
            ]
          }
        },
        "00ca77345c0748c4b607836d55954bb3": {
          "model_module": "@jupyter-widgets/base",
          "model_name": "LayoutModel",
          "model_module_version": "1.2.0",
          "state": {
            "_view_name": "LayoutView",
            "grid_template_rows": null,
            "right": null,
            "justify_content": null,
            "_view_module": "@jupyter-widgets/base",
            "overflow": null,
            "_model_module_version": "1.2.0",
            "_view_count": null,
            "flex_flow": null,
            "width": null,
            "min_width": null,
            "border": null,
            "align_items": null,
            "bottom": null,
            "_model_module": "@jupyter-widgets/base",
            "top": null,
            "grid_column": null,
            "overflow_y": null,
            "overflow_x": null,
            "grid_auto_flow": null,
            "grid_area": null,
            "grid_template_columns": null,
            "flex": null,
            "_model_name": "LayoutModel",
            "justify_items": null,
            "grid_row": null,
            "max_height": null,
            "align_content": null,
            "visibility": null,
            "align_self": null,
            "height": null,
            "min_height": null,
            "padding": null,
            "grid_auto_rows": null,
            "grid_gap": null,
            "max_width": null,
            "order": null,
            "_view_module_version": "1.2.0",
            "grid_template_areas": null,
            "object_position": null,
            "object_fit": null,
            "grid_auto_columns": null,
            "margin": null,
            "display": null,
            "left": null
          }
        },
        "3e7e1fd0ef5a43d1bfaa9d628b53dd5c": {
          "model_module": "@jupyter-widgets/controls",
          "model_name": "HTMLModel",
          "model_module_version": "1.5.0",
          "state": {
            "_view_name": "HTMLView",
            "style": "IPY_MODEL_7362df93ab8543c28e961e4d8b32435a",
            "_dom_classes": [],
            "description": "",
            "_model_name": "HTMLModel",
            "placeholder": "​",
            "_view_module": "@jupyter-widgets/controls",
            "_model_module_version": "1.5.0",
            "value": "",
            "_view_count": null,
            "_view_module_version": "1.5.0",
            "description_tooltip": null,
            "_model_module": "@jupyter-widgets/controls",
            "layout": "IPY_MODEL_f7217128aa864886aec3d96aff263f46"
          }
        },
        "1ab865bab7f44c71bef67b3940e6de6f": {
          "model_module": "@jupyter-widgets/controls",
          "model_name": "FloatProgressModel",
          "model_module_version": "1.5.0",
          "state": {
            "_view_name": "ProgressView",
            "style": "IPY_MODEL_2194df4f94ab46b1b4c683656881fc25",
            "_dom_classes": [],
            "description": "",
            "_model_name": "FloatProgressModel",
            "bar_style": "success",
            "max": 9912422,
            "_view_module": "@jupyter-widgets/controls",
            "_model_module_version": "1.5.0",
            "value": 9912422,
            "_view_count": null,
            "_view_module_version": "1.5.0",
            "orientation": "horizontal",
            "min": 0,
            "description_tooltip": null,
            "_model_module": "@jupyter-widgets/controls",
            "layout": "IPY_MODEL_2c84a981eb04450799f13d787a0e6862"
          }
        },
        "206704476e59456cb7f44655e868fc19": {
          "model_module": "@jupyter-widgets/controls",
          "model_name": "HTMLModel",
          "model_module_version": "1.5.0",
          "state": {
            "_view_name": "HTMLView",
            "style": "IPY_MODEL_4d51af77db584ad28039ef3315a4432a",
            "_dom_classes": [],
            "description": "",
            "_model_name": "HTMLModel",
            "placeholder": "​",
            "_view_module": "@jupyter-widgets/controls",
            "_model_module_version": "1.5.0",
            "value": " 9913344/? [00:00&lt;00:00, 21308943.74it/s]",
            "_view_count": null,
            "_view_module_version": "1.5.0",
            "description_tooltip": null,
            "_model_module": "@jupyter-widgets/controls",
            "layout": "IPY_MODEL_4982a0bef9ea43c0b0ede4453c30a845"
          }
        },
        "7362df93ab8543c28e961e4d8b32435a": {
          "model_module": "@jupyter-widgets/controls",
          "model_name": "DescriptionStyleModel",
          "model_module_version": "1.5.0",
          "state": {
            "_view_name": "StyleView",
            "_model_name": "DescriptionStyleModel",
            "description_width": "",
            "_view_module": "@jupyter-widgets/base",
            "_model_module_version": "1.5.0",
            "_view_count": null,
            "_view_module_version": "1.2.0",
            "_model_module": "@jupyter-widgets/controls"
          }
        },
        "f7217128aa864886aec3d96aff263f46": {
          "model_module": "@jupyter-widgets/base",
          "model_name": "LayoutModel",
          "model_module_version": "1.2.0",
          "state": {
            "_view_name": "LayoutView",
            "grid_template_rows": null,
            "right": null,
            "justify_content": null,
            "_view_module": "@jupyter-widgets/base",
            "overflow": null,
            "_model_module_version": "1.2.0",
            "_view_count": null,
            "flex_flow": null,
            "width": null,
            "min_width": null,
            "border": null,
            "align_items": null,
            "bottom": null,
            "_model_module": "@jupyter-widgets/base",
            "top": null,
            "grid_column": null,
            "overflow_y": null,
            "overflow_x": null,
            "grid_auto_flow": null,
            "grid_area": null,
            "grid_template_columns": null,
            "flex": null,
            "_model_name": "LayoutModel",
            "justify_items": null,
            "grid_row": null,
            "max_height": null,
            "align_content": null,
            "visibility": null,
            "align_self": null,
            "height": null,
            "min_height": null,
            "padding": null,
            "grid_auto_rows": null,
            "grid_gap": null,
            "max_width": null,
            "order": null,
            "_view_module_version": "1.2.0",
            "grid_template_areas": null,
            "object_position": null,
            "object_fit": null,
            "grid_auto_columns": null,
            "margin": null,
            "display": null,
            "left": null
          }
        },
        "2194df4f94ab46b1b4c683656881fc25": {
          "model_module": "@jupyter-widgets/controls",
          "model_name": "ProgressStyleModel",
          "model_module_version": "1.5.0",
          "state": {
            "_view_name": "StyleView",
            "_model_name": "ProgressStyleModel",
            "description_width": "",
            "_view_module": "@jupyter-widgets/base",
            "_model_module_version": "1.5.0",
            "_view_count": null,
            "_view_module_version": "1.2.0",
            "bar_color": null,
            "_model_module": "@jupyter-widgets/controls"
          }
        },
        "2c84a981eb04450799f13d787a0e6862": {
          "model_module": "@jupyter-widgets/base",
          "model_name": "LayoutModel",
          "model_module_version": "1.2.0",
          "state": {
            "_view_name": "LayoutView",
            "grid_template_rows": null,
            "right": null,
            "justify_content": null,
            "_view_module": "@jupyter-widgets/base",
            "overflow": null,
            "_model_module_version": "1.2.0",
            "_view_count": null,
            "flex_flow": null,
            "width": null,
            "min_width": null,
            "border": null,
            "align_items": null,
            "bottom": null,
            "_model_module": "@jupyter-widgets/base",
            "top": null,
            "grid_column": null,
            "overflow_y": null,
            "overflow_x": null,
            "grid_auto_flow": null,
            "grid_area": null,
            "grid_template_columns": null,
            "flex": null,
            "_model_name": "LayoutModel",
            "justify_items": null,
            "grid_row": null,
            "max_height": null,
            "align_content": null,
            "visibility": null,
            "align_self": null,
            "height": null,
            "min_height": null,
            "padding": null,
            "grid_auto_rows": null,
            "grid_gap": null,
            "max_width": null,
            "order": null,
            "_view_module_version": "1.2.0",
            "grid_template_areas": null,
            "object_position": null,
            "object_fit": null,
            "grid_auto_columns": null,
            "margin": null,
            "display": null,
            "left": null
          }
        },
        "4d51af77db584ad28039ef3315a4432a": {
          "model_module": "@jupyter-widgets/controls",
          "model_name": "DescriptionStyleModel",
          "model_module_version": "1.5.0",
          "state": {
            "_view_name": "StyleView",
            "_model_name": "DescriptionStyleModel",
            "description_width": "",
            "_view_module": "@jupyter-widgets/base",
            "_model_module_version": "1.5.0",
            "_view_count": null,
            "_view_module_version": "1.2.0",
            "_model_module": "@jupyter-widgets/controls"
          }
        },
        "4982a0bef9ea43c0b0ede4453c30a845": {
          "model_module": "@jupyter-widgets/base",
          "model_name": "LayoutModel",
          "model_module_version": "1.2.0",
          "state": {
            "_view_name": "LayoutView",
            "grid_template_rows": null,
            "right": null,
            "justify_content": null,
            "_view_module": "@jupyter-widgets/base",
            "overflow": null,
            "_model_module_version": "1.2.0",
            "_view_count": null,
            "flex_flow": null,
            "width": null,
            "min_width": null,
            "border": null,
            "align_items": null,
            "bottom": null,
            "_model_module": "@jupyter-widgets/base",
            "top": null,
            "grid_column": null,
            "overflow_y": null,
            "overflow_x": null,
            "grid_auto_flow": null,
            "grid_area": null,
            "grid_template_columns": null,
            "flex": null,
            "_model_name": "LayoutModel",
            "justify_items": null,
            "grid_row": null,
            "max_height": null,
            "align_content": null,
            "visibility": null,
            "align_self": null,
            "height": null,
            "min_height": null,
            "padding": null,
            "grid_auto_rows": null,
            "grid_gap": null,
            "max_width": null,
            "order": null,
            "_view_module_version": "1.2.0",
            "grid_template_areas": null,
            "object_position": null,
            "object_fit": null,
            "grid_auto_columns": null,
            "margin": null,
            "display": null,
            "left": null
          }
        },
        "7dfadcb367d24a9db66e1774c1cc22b8": {
          "model_module": "@jupyter-widgets/controls",
          "model_name": "HBoxModel",
          "model_module_version": "1.5.0",
          "state": {
            "_view_name": "HBoxView",
            "_dom_classes": [],
            "_model_name": "HBoxModel",
            "_view_module": "@jupyter-widgets/controls",
            "_model_module_version": "1.5.0",
            "_view_count": null,
            "_view_module_version": "1.5.0",
            "box_style": "",
            "layout": "IPY_MODEL_b6869f1c7c7a4aecb4121ecc8583af84",
            "_model_module": "@jupyter-widgets/controls",
            "children": [
              "IPY_MODEL_8c2ef338d4ce463b85d34c9120ab766e",
              "IPY_MODEL_283901a40d964450b5cce172ab049289",
              "IPY_MODEL_e22de786704740b19ee5ad3c3c7c197a"
            ]
          }
        },
        "b6869f1c7c7a4aecb4121ecc8583af84": {
          "model_module": "@jupyter-widgets/base",
          "model_name": "LayoutModel",
          "model_module_version": "1.2.0",
          "state": {
            "_view_name": "LayoutView",
            "grid_template_rows": null,
            "right": null,
            "justify_content": null,
            "_view_module": "@jupyter-widgets/base",
            "overflow": null,
            "_model_module_version": "1.2.0",
            "_view_count": null,
            "flex_flow": null,
            "width": null,
            "min_width": null,
            "border": null,
            "align_items": null,
            "bottom": null,
            "_model_module": "@jupyter-widgets/base",
            "top": null,
            "grid_column": null,
            "overflow_y": null,
            "overflow_x": null,
            "grid_auto_flow": null,
            "grid_area": null,
            "grid_template_columns": null,
            "flex": null,
            "_model_name": "LayoutModel",
            "justify_items": null,
            "grid_row": null,
            "max_height": null,
            "align_content": null,
            "visibility": null,
            "align_self": null,
            "height": null,
            "min_height": null,
            "padding": null,
            "grid_auto_rows": null,
            "grid_gap": null,
            "max_width": null,
            "order": null,
            "_view_module_version": "1.2.0",
            "grid_template_areas": null,
            "object_position": null,
            "object_fit": null,
            "grid_auto_columns": null,
            "margin": null,
            "display": null,
            "left": null
          }
        },
        "8c2ef338d4ce463b85d34c9120ab766e": {
          "model_module": "@jupyter-widgets/controls",
          "model_name": "HTMLModel",
          "model_module_version": "1.5.0",
          "state": {
            "_view_name": "HTMLView",
            "style": "IPY_MODEL_5d38dcfb5bae4915b60571d7b2fde098",
            "_dom_classes": [],
            "description": "",
            "_model_name": "HTMLModel",
            "placeholder": "​",
            "_view_module": "@jupyter-widgets/controls",
            "_model_module_version": "1.5.0",
            "value": "",
            "_view_count": null,
            "_view_module_version": "1.5.0",
            "description_tooltip": null,
            "_model_module": "@jupyter-widgets/controls",
            "layout": "IPY_MODEL_4aadaac888f44ac0b97a80e9afd13e72"
          }
        },
        "283901a40d964450b5cce172ab049289": {
          "model_module": "@jupyter-widgets/controls",
          "model_name": "FloatProgressModel",
          "model_module_version": "1.5.0",
          "state": {
            "_view_name": "ProgressView",
            "style": "IPY_MODEL_c0480d9fda344c7283da91266ef29633",
            "_dom_classes": [],
            "description": "",
            "_model_name": "FloatProgressModel",
            "bar_style": "success",
            "max": 28881,
            "_view_module": "@jupyter-widgets/controls",
            "_model_module_version": "1.5.0",
            "value": 28881,
            "_view_count": null,
            "_view_module_version": "1.5.0",
            "orientation": "horizontal",
            "min": 0,
            "description_tooltip": null,
            "_model_module": "@jupyter-widgets/controls",
            "layout": "IPY_MODEL_6e71edc183a3487d97196abf6ae79138"
          }
        },
        "e22de786704740b19ee5ad3c3c7c197a": {
          "model_module": "@jupyter-widgets/controls",
          "model_name": "HTMLModel",
          "model_module_version": "1.5.0",
          "state": {
            "_view_name": "HTMLView",
            "style": "IPY_MODEL_d205efc085f1424095906d4a64ee241e",
            "_dom_classes": [],
            "description": "",
            "_model_name": "HTMLModel",
            "placeholder": "​",
            "_view_module": "@jupyter-widgets/controls",
            "_model_module_version": "1.5.0",
            "value": " 29696/? [00:00&lt;00:00, 10049.93it/s]",
            "_view_count": null,
            "_view_module_version": "1.5.0",
            "description_tooltip": null,
            "_model_module": "@jupyter-widgets/controls",
            "layout": "IPY_MODEL_eb1630a2377646f6a755abe3c19a94cd"
          }
        },
        "5d38dcfb5bae4915b60571d7b2fde098": {
          "model_module": "@jupyter-widgets/controls",
          "model_name": "DescriptionStyleModel",
          "model_module_version": "1.5.0",
          "state": {
            "_view_name": "StyleView",
            "_model_name": "DescriptionStyleModel",
            "description_width": "",
            "_view_module": "@jupyter-widgets/base",
            "_model_module_version": "1.5.0",
            "_view_count": null,
            "_view_module_version": "1.2.0",
            "_model_module": "@jupyter-widgets/controls"
          }
        },
        "4aadaac888f44ac0b97a80e9afd13e72": {
          "model_module": "@jupyter-widgets/base",
          "model_name": "LayoutModel",
          "model_module_version": "1.2.0",
          "state": {
            "_view_name": "LayoutView",
            "grid_template_rows": null,
            "right": null,
            "justify_content": null,
            "_view_module": "@jupyter-widgets/base",
            "overflow": null,
            "_model_module_version": "1.2.0",
            "_view_count": null,
            "flex_flow": null,
            "width": null,
            "min_width": null,
            "border": null,
            "align_items": null,
            "bottom": null,
            "_model_module": "@jupyter-widgets/base",
            "top": null,
            "grid_column": null,
            "overflow_y": null,
            "overflow_x": null,
            "grid_auto_flow": null,
            "grid_area": null,
            "grid_template_columns": null,
            "flex": null,
            "_model_name": "LayoutModel",
            "justify_items": null,
            "grid_row": null,
            "max_height": null,
            "align_content": null,
            "visibility": null,
            "align_self": null,
            "height": null,
            "min_height": null,
            "padding": null,
            "grid_auto_rows": null,
            "grid_gap": null,
            "max_width": null,
            "order": null,
            "_view_module_version": "1.2.0",
            "grid_template_areas": null,
            "object_position": null,
            "object_fit": null,
            "grid_auto_columns": null,
            "margin": null,
            "display": null,
            "left": null
          }
        },
        "c0480d9fda344c7283da91266ef29633": {
          "model_module": "@jupyter-widgets/controls",
          "model_name": "ProgressStyleModel",
          "model_module_version": "1.5.0",
          "state": {
            "_view_name": "StyleView",
            "_model_name": "ProgressStyleModel",
            "description_width": "",
            "_view_module": "@jupyter-widgets/base",
            "_model_module_version": "1.5.0",
            "_view_count": null,
            "_view_module_version": "1.2.0",
            "bar_color": null,
            "_model_module": "@jupyter-widgets/controls"
          }
        },
        "6e71edc183a3487d97196abf6ae79138": {
          "model_module": "@jupyter-widgets/base",
          "model_name": "LayoutModel",
          "model_module_version": "1.2.0",
          "state": {
            "_view_name": "LayoutView",
            "grid_template_rows": null,
            "right": null,
            "justify_content": null,
            "_view_module": "@jupyter-widgets/base",
            "overflow": null,
            "_model_module_version": "1.2.0",
            "_view_count": null,
            "flex_flow": null,
            "width": null,
            "min_width": null,
            "border": null,
            "align_items": null,
            "bottom": null,
            "_model_module": "@jupyter-widgets/base",
            "top": null,
            "grid_column": null,
            "overflow_y": null,
            "overflow_x": null,
            "grid_auto_flow": null,
            "grid_area": null,
            "grid_template_columns": null,
            "flex": null,
            "_model_name": "LayoutModel",
            "justify_items": null,
            "grid_row": null,
            "max_height": null,
            "align_content": null,
            "visibility": null,
            "align_self": null,
            "height": null,
            "min_height": null,
            "padding": null,
            "grid_auto_rows": null,
            "grid_gap": null,
            "max_width": null,
            "order": null,
            "_view_module_version": "1.2.0",
            "grid_template_areas": null,
            "object_position": null,
            "object_fit": null,
            "grid_auto_columns": null,
            "margin": null,
            "display": null,
            "left": null
          }
        },
        "d205efc085f1424095906d4a64ee241e": {
          "model_module": "@jupyter-widgets/controls",
          "model_name": "DescriptionStyleModel",
          "model_module_version": "1.5.0",
          "state": {
            "_view_name": "StyleView",
            "_model_name": "DescriptionStyleModel",
            "description_width": "",
            "_view_module": "@jupyter-widgets/base",
            "_model_module_version": "1.5.0",
            "_view_count": null,
            "_view_module_version": "1.2.0",
            "_model_module": "@jupyter-widgets/controls"
          }
        },
        "eb1630a2377646f6a755abe3c19a94cd": {
          "model_module": "@jupyter-widgets/base",
          "model_name": "LayoutModel",
          "model_module_version": "1.2.0",
          "state": {
            "_view_name": "LayoutView",
            "grid_template_rows": null,
            "right": null,
            "justify_content": null,
            "_view_module": "@jupyter-widgets/base",
            "overflow": null,
            "_model_module_version": "1.2.0",
            "_view_count": null,
            "flex_flow": null,
            "width": null,
            "min_width": null,
            "border": null,
            "align_items": null,
            "bottom": null,
            "_model_module": "@jupyter-widgets/base",
            "top": null,
            "grid_column": null,
            "overflow_y": null,
            "overflow_x": null,
            "grid_auto_flow": null,
            "grid_area": null,
            "grid_template_columns": null,
            "flex": null,
            "_model_name": "LayoutModel",
            "justify_items": null,
            "grid_row": null,
            "max_height": null,
            "align_content": null,
            "visibility": null,
            "align_self": null,
            "height": null,
            "min_height": null,
            "padding": null,
            "grid_auto_rows": null,
            "grid_gap": null,
            "max_width": null,
            "order": null,
            "_view_module_version": "1.2.0",
            "grid_template_areas": null,
            "object_position": null,
            "object_fit": null,
            "grid_auto_columns": null,
            "margin": null,
            "display": null,
            "left": null
          }
        },
        "063b26f0edcc497b94356ae3eab58de7": {
          "model_module": "@jupyter-widgets/controls",
          "model_name": "HBoxModel",
          "model_module_version": "1.5.0",
          "state": {
            "_view_name": "HBoxView",
            "_dom_classes": [],
            "_model_name": "HBoxModel",
            "_view_module": "@jupyter-widgets/controls",
            "_model_module_version": "1.5.0",
            "_view_count": null,
            "_view_module_version": "1.5.0",
            "box_style": "",
            "layout": "IPY_MODEL_e044adba097e40bda4da0f06a187a20e",
            "_model_module": "@jupyter-widgets/controls",
            "children": [
              "IPY_MODEL_7973ed24f5904ed7a91306bb47703b12",
              "IPY_MODEL_82343baba5bc4f5b816b0049c32215ad",
              "IPY_MODEL_743ed64e2a744ec3ab12d9c9737c33a2"
            ]
          }
        },
        "e044adba097e40bda4da0f06a187a20e": {
          "model_module": "@jupyter-widgets/base",
          "model_name": "LayoutModel",
          "model_module_version": "1.2.0",
          "state": {
            "_view_name": "LayoutView",
            "grid_template_rows": null,
            "right": null,
            "justify_content": null,
            "_view_module": "@jupyter-widgets/base",
            "overflow": null,
            "_model_module_version": "1.2.0",
            "_view_count": null,
            "flex_flow": null,
            "width": null,
            "min_width": null,
            "border": null,
            "align_items": null,
            "bottom": null,
            "_model_module": "@jupyter-widgets/base",
            "top": null,
            "grid_column": null,
            "overflow_y": null,
            "overflow_x": null,
            "grid_auto_flow": null,
            "grid_area": null,
            "grid_template_columns": null,
            "flex": null,
            "_model_name": "LayoutModel",
            "justify_items": null,
            "grid_row": null,
            "max_height": null,
            "align_content": null,
            "visibility": null,
            "align_self": null,
            "height": null,
            "min_height": null,
            "padding": null,
            "grid_auto_rows": null,
            "grid_gap": null,
            "max_width": null,
            "order": null,
            "_view_module_version": "1.2.0",
            "grid_template_areas": null,
            "object_position": null,
            "object_fit": null,
            "grid_auto_columns": null,
            "margin": null,
            "display": null,
            "left": null
          }
        },
        "7973ed24f5904ed7a91306bb47703b12": {
          "model_module": "@jupyter-widgets/controls",
          "model_name": "HTMLModel",
          "model_module_version": "1.5.0",
          "state": {
            "_view_name": "HTMLView",
            "style": "IPY_MODEL_ef7960e0d84c4a8bb8366b62e3fc2e61",
            "_dom_classes": [],
            "description": "",
            "_model_name": "HTMLModel",
            "placeholder": "​",
            "_view_module": "@jupyter-widgets/controls",
            "_model_module_version": "1.5.0",
            "value": "",
            "_view_count": null,
            "_view_module_version": "1.5.0",
            "description_tooltip": null,
            "_model_module": "@jupyter-widgets/controls",
            "layout": "IPY_MODEL_96a3dcdf4f6c4ac2a061f3c594f04bee"
          }
        },
        "82343baba5bc4f5b816b0049c32215ad": {
          "model_module": "@jupyter-widgets/controls",
          "model_name": "FloatProgressModel",
          "model_module_version": "1.5.0",
          "state": {
            "_view_name": "ProgressView",
            "style": "IPY_MODEL_4d9ee1d3e53147c5894afa5a8585bf05",
            "_dom_classes": [],
            "description": "",
            "_model_name": "FloatProgressModel",
            "bar_style": "success",
            "max": 1648877,
            "_view_module": "@jupyter-widgets/controls",
            "_model_module_version": "1.5.0",
            "value": 1648877,
            "_view_count": null,
            "_view_module_version": "1.5.0",
            "orientation": "horizontal",
            "min": 0,
            "description_tooltip": null,
            "_model_module": "@jupyter-widgets/controls",
            "layout": "IPY_MODEL_c1181edb5e06433ab77585aa308d6a1c"
          }
        },
        "743ed64e2a744ec3ab12d9c9737c33a2": {
          "model_module": "@jupyter-widgets/controls",
          "model_name": "HTMLModel",
          "model_module_version": "1.5.0",
          "state": {
            "_view_name": "HTMLView",
            "style": "IPY_MODEL_97332dd2cb9e4fa7ad4da7ff66df7213",
            "_dom_classes": [],
            "description": "",
            "_model_name": "HTMLModel",
            "placeholder": "​",
            "_view_module": "@jupyter-widgets/controls",
            "_model_module_version": "1.5.0",
            "value": " 1649664/? [00:00&lt;00:00, 2770295.39it/s]",
            "_view_count": null,
            "_view_module_version": "1.5.0",
            "description_tooltip": null,
            "_model_module": "@jupyter-widgets/controls",
            "layout": "IPY_MODEL_78c3d2835196485faea2c8da51d8d014"
          }
        },
        "ef7960e0d84c4a8bb8366b62e3fc2e61": {
          "model_module": "@jupyter-widgets/controls",
          "model_name": "DescriptionStyleModel",
          "model_module_version": "1.5.0",
          "state": {
            "_view_name": "StyleView",
            "_model_name": "DescriptionStyleModel",
            "description_width": "",
            "_view_module": "@jupyter-widgets/base",
            "_model_module_version": "1.5.0",
            "_view_count": null,
            "_view_module_version": "1.2.0",
            "_model_module": "@jupyter-widgets/controls"
          }
        },
        "96a3dcdf4f6c4ac2a061f3c594f04bee": {
          "model_module": "@jupyter-widgets/base",
          "model_name": "LayoutModel",
          "model_module_version": "1.2.0",
          "state": {
            "_view_name": "LayoutView",
            "grid_template_rows": null,
            "right": null,
            "justify_content": null,
            "_view_module": "@jupyter-widgets/base",
            "overflow": null,
            "_model_module_version": "1.2.0",
            "_view_count": null,
            "flex_flow": null,
            "width": null,
            "min_width": null,
            "border": null,
            "align_items": null,
            "bottom": null,
            "_model_module": "@jupyter-widgets/base",
            "top": null,
            "grid_column": null,
            "overflow_y": null,
            "overflow_x": null,
            "grid_auto_flow": null,
            "grid_area": null,
            "grid_template_columns": null,
            "flex": null,
            "_model_name": "LayoutModel",
            "justify_items": null,
            "grid_row": null,
            "max_height": null,
            "align_content": null,
            "visibility": null,
            "align_self": null,
            "height": null,
            "min_height": null,
            "padding": null,
            "grid_auto_rows": null,
            "grid_gap": null,
            "max_width": null,
            "order": null,
            "_view_module_version": "1.2.0",
            "grid_template_areas": null,
            "object_position": null,
            "object_fit": null,
            "grid_auto_columns": null,
            "margin": null,
            "display": null,
            "left": null
          }
        },
        "4d9ee1d3e53147c5894afa5a8585bf05": {
          "model_module": "@jupyter-widgets/controls",
          "model_name": "ProgressStyleModel",
          "model_module_version": "1.5.0",
          "state": {
            "_view_name": "StyleView",
            "_model_name": "ProgressStyleModel",
            "description_width": "",
            "_view_module": "@jupyter-widgets/base",
            "_model_module_version": "1.5.0",
            "_view_count": null,
            "_view_module_version": "1.2.0",
            "bar_color": null,
            "_model_module": "@jupyter-widgets/controls"
          }
        },
        "c1181edb5e06433ab77585aa308d6a1c": {
          "model_module": "@jupyter-widgets/base",
          "model_name": "LayoutModel",
          "model_module_version": "1.2.0",
          "state": {
            "_view_name": "LayoutView",
            "grid_template_rows": null,
            "right": null,
            "justify_content": null,
            "_view_module": "@jupyter-widgets/base",
            "overflow": null,
            "_model_module_version": "1.2.0",
            "_view_count": null,
            "flex_flow": null,
            "width": null,
            "min_width": null,
            "border": null,
            "align_items": null,
            "bottom": null,
            "_model_module": "@jupyter-widgets/base",
            "top": null,
            "grid_column": null,
            "overflow_y": null,
            "overflow_x": null,
            "grid_auto_flow": null,
            "grid_area": null,
            "grid_template_columns": null,
            "flex": null,
            "_model_name": "LayoutModel",
            "justify_items": null,
            "grid_row": null,
            "max_height": null,
            "align_content": null,
            "visibility": null,
            "align_self": null,
            "height": null,
            "min_height": null,
            "padding": null,
            "grid_auto_rows": null,
            "grid_gap": null,
            "max_width": null,
            "order": null,
            "_view_module_version": "1.2.0",
            "grid_template_areas": null,
            "object_position": null,
            "object_fit": null,
            "grid_auto_columns": null,
            "margin": null,
            "display": null,
            "left": null
          }
        },
        "97332dd2cb9e4fa7ad4da7ff66df7213": {
          "model_module": "@jupyter-widgets/controls",
          "model_name": "DescriptionStyleModel",
          "model_module_version": "1.5.0",
          "state": {
            "_view_name": "StyleView",
            "_model_name": "DescriptionStyleModel",
            "description_width": "",
            "_view_module": "@jupyter-widgets/base",
            "_model_module_version": "1.5.0",
            "_view_count": null,
            "_view_module_version": "1.2.0",
            "_model_module": "@jupyter-widgets/controls"
          }
        },
        "78c3d2835196485faea2c8da51d8d014": {
          "model_module": "@jupyter-widgets/base",
          "model_name": "LayoutModel",
          "model_module_version": "1.2.0",
          "state": {
            "_view_name": "LayoutView",
            "grid_template_rows": null,
            "right": null,
            "justify_content": null,
            "_view_module": "@jupyter-widgets/base",
            "overflow": null,
            "_model_module_version": "1.2.0",
            "_view_count": null,
            "flex_flow": null,
            "width": null,
            "min_width": null,
            "border": null,
            "align_items": null,
            "bottom": null,
            "_model_module": "@jupyter-widgets/base",
            "top": null,
            "grid_column": null,
            "overflow_y": null,
            "overflow_x": null,
            "grid_auto_flow": null,
            "grid_area": null,
            "grid_template_columns": null,
            "flex": null,
            "_model_name": "LayoutModel",
            "justify_items": null,
            "grid_row": null,
            "max_height": null,
            "align_content": null,
            "visibility": null,
            "align_self": null,
            "height": null,
            "min_height": null,
            "padding": null,
            "grid_auto_rows": null,
            "grid_gap": null,
            "max_width": null,
            "order": null,
            "_view_module_version": "1.2.0",
            "grid_template_areas": null,
            "object_position": null,
            "object_fit": null,
            "grid_auto_columns": null,
            "margin": null,
            "display": null,
            "left": null
          }
        },
        "7d4465503a6945808db471129f6c7aa1": {
          "model_module": "@jupyter-widgets/controls",
          "model_name": "HBoxModel",
          "model_module_version": "1.5.0",
          "state": {
            "_view_name": "HBoxView",
            "_dom_classes": [],
            "_model_name": "HBoxModel",
            "_view_module": "@jupyter-widgets/controls",
            "_model_module_version": "1.5.0",
            "_view_count": null,
            "_view_module_version": "1.5.0",
            "box_style": "",
            "layout": "IPY_MODEL_793c0b3ef1e545b8b944331cb7428b41",
            "_model_module": "@jupyter-widgets/controls",
            "children": [
              "IPY_MODEL_26b9f5f7205042b9a02a62d20b8dd3f4",
              "IPY_MODEL_93aca174086b4adab36fed7468503217",
              "IPY_MODEL_62f044c793b14e1bb01bf3915478133f"
            ]
          }
        },
        "793c0b3ef1e545b8b944331cb7428b41": {
          "model_module": "@jupyter-widgets/base",
          "model_name": "LayoutModel",
          "model_module_version": "1.2.0",
          "state": {
            "_view_name": "LayoutView",
            "grid_template_rows": null,
            "right": null,
            "justify_content": null,
            "_view_module": "@jupyter-widgets/base",
            "overflow": null,
            "_model_module_version": "1.2.0",
            "_view_count": null,
            "flex_flow": null,
            "width": null,
            "min_width": null,
            "border": null,
            "align_items": null,
            "bottom": null,
            "_model_module": "@jupyter-widgets/base",
            "top": null,
            "grid_column": null,
            "overflow_y": null,
            "overflow_x": null,
            "grid_auto_flow": null,
            "grid_area": null,
            "grid_template_columns": null,
            "flex": null,
            "_model_name": "LayoutModel",
            "justify_items": null,
            "grid_row": null,
            "max_height": null,
            "align_content": null,
            "visibility": null,
            "align_self": null,
            "height": null,
            "min_height": null,
            "padding": null,
            "grid_auto_rows": null,
            "grid_gap": null,
            "max_width": null,
            "order": null,
            "_view_module_version": "1.2.0",
            "grid_template_areas": null,
            "object_position": null,
            "object_fit": null,
            "grid_auto_columns": null,
            "margin": null,
            "display": null,
            "left": null
          }
        },
        "26b9f5f7205042b9a02a62d20b8dd3f4": {
          "model_module": "@jupyter-widgets/controls",
          "model_name": "HTMLModel",
          "model_module_version": "1.5.0",
          "state": {
            "_view_name": "HTMLView",
            "style": "IPY_MODEL_8f65b5d7ff4849018ec210f293a6ac12",
            "_dom_classes": [],
            "description": "",
            "_model_name": "HTMLModel",
            "placeholder": "​",
            "_view_module": "@jupyter-widgets/controls",
            "_model_module_version": "1.5.0",
            "value": "",
            "_view_count": null,
            "_view_module_version": "1.5.0",
            "description_tooltip": null,
            "_model_module": "@jupyter-widgets/controls",
            "layout": "IPY_MODEL_6bb27abad48942bca7458fcbc182c69d"
          }
        },
        "93aca174086b4adab36fed7468503217": {
          "model_module": "@jupyter-widgets/controls",
          "model_name": "FloatProgressModel",
          "model_module_version": "1.5.0",
          "state": {
            "_view_name": "ProgressView",
            "style": "IPY_MODEL_fa86070e11974c64b087424d088d8bbf",
            "_dom_classes": [],
            "description": "",
            "_model_name": "FloatProgressModel",
            "bar_style": "success",
            "max": 4542,
            "_view_module": "@jupyter-widgets/controls",
            "_model_module_version": "1.5.0",
            "value": 4542,
            "_view_count": null,
            "_view_module_version": "1.5.0",
            "orientation": "horizontal",
            "min": 0,
            "description_tooltip": null,
            "_model_module": "@jupyter-widgets/controls",
            "layout": "IPY_MODEL_ac65c72b35b7499eab1f6d5b88d42314"
          }
        },
        "62f044c793b14e1bb01bf3915478133f": {
          "model_module": "@jupyter-widgets/controls",
          "model_name": "HTMLModel",
          "model_module_version": "1.5.0",
          "state": {
            "_view_name": "HTMLView",
            "style": "IPY_MODEL_2d38a61b8e3f4641ad4d65154ce618b7",
            "_dom_classes": [],
            "description": "",
            "_model_name": "HTMLModel",
            "placeholder": "​",
            "_view_module": "@jupyter-widgets/controls",
            "_model_module_version": "1.5.0",
            "value": " 5120/? [00:00&lt;00:00, 82226.14it/s]",
            "_view_count": null,
            "_view_module_version": "1.5.0",
            "description_tooltip": null,
            "_model_module": "@jupyter-widgets/controls",
            "layout": "IPY_MODEL_b4da3a71221b4da0be7b2880273768b8"
          }
        },
        "8f65b5d7ff4849018ec210f293a6ac12": {
          "model_module": "@jupyter-widgets/controls",
          "model_name": "DescriptionStyleModel",
          "model_module_version": "1.5.0",
          "state": {
            "_view_name": "StyleView",
            "_model_name": "DescriptionStyleModel",
            "description_width": "",
            "_view_module": "@jupyter-widgets/base",
            "_model_module_version": "1.5.0",
            "_view_count": null,
            "_view_module_version": "1.2.0",
            "_model_module": "@jupyter-widgets/controls"
          }
        },
        "6bb27abad48942bca7458fcbc182c69d": {
          "model_module": "@jupyter-widgets/base",
          "model_name": "LayoutModel",
          "model_module_version": "1.2.0",
          "state": {
            "_view_name": "LayoutView",
            "grid_template_rows": null,
            "right": null,
            "justify_content": null,
            "_view_module": "@jupyter-widgets/base",
            "overflow": null,
            "_model_module_version": "1.2.0",
            "_view_count": null,
            "flex_flow": null,
            "width": null,
            "min_width": null,
            "border": null,
            "align_items": null,
            "bottom": null,
            "_model_module": "@jupyter-widgets/base",
            "top": null,
            "grid_column": null,
            "overflow_y": null,
            "overflow_x": null,
            "grid_auto_flow": null,
            "grid_area": null,
            "grid_template_columns": null,
            "flex": null,
            "_model_name": "LayoutModel",
            "justify_items": null,
            "grid_row": null,
            "max_height": null,
            "align_content": null,
            "visibility": null,
            "align_self": null,
            "height": null,
            "min_height": null,
            "padding": null,
            "grid_auto_rows": null,
            "grid_gap": null,
            "max_width": null,
            "order": null,
            "_view_module_version": "1.2.0",
            "grid_template_areas": null,
            "object_position": null,
            "object_fit": null,
            "grid_auto_columns": null,
            "margin": null,
            "display": null,
            "left": null
          }
        },
        "fa86070e11974c64b087424d088d8bbf": {
          "model_module": "@jupyter-widgets/controls",
          "model_name": "ProgressStyleModel",
          "model_module_version": "1.5.0",
          "state": {
            "_view_name": "StyleView",
            "_model_name": "ProgressStyleModel",
            "description_width": "",
            "_view_module": "@jupyter-widgets/base",
            "_model_module_version": "1.5.0",
            "_view_count": null,
            "_view_module_version": "1.2.0",
            "bar_color": null,
            "_model_module": "@jupyter-widgets/controls"
          }
        },
        "ac65c72b35b7499eab1f6d5b88d42314": {
          "model_module": "@jupyter-widgets/base",
          "model_name": "LayoutModel",
          "model_module_version": "1.2.0",
          "state": {
            "_view_name": "LayoutView",
            "grid_template_rows": null,
            "right": null,
            "justify_content": null,
            "_view_module": "@jupyter-widgets/base",
            "overflow": null,
            "_model_module_version": "1.2.0",
            "_view_count": null,
            "flex_flow": null,
            "width": null,
            "min_width": null,
            "border": null,
            "align_items": null,
            "bottom": null,
            "_model_module": "@jupyter-widgets/base",
            "top": null,
            "grid_column": null,
            "overflow_y": null,
            "overflow_x": null,
            "grid_auto_flow": null,
            "grid_area": null,
            "grid_template_columns": null,
            "flex": null,
            "_model_name": "LayoutModel",
            "justify_items": null,
            "grid_row": null,
            "max_height": null,
            "align_content": null,
            "visibility": null,
            "align_self": null,
            "height": null,
            "min_height": null,
            "padding": null,
            "grid_auto_rows": null,
            "grid_gap": null,
            "max_width": null,
            "order": null,
            "_view_module_version": "1.2.0",
            "grid_template_areas": null,
            "object_position": null,
            "object_fit": null,
            "grid_auto_columns": null,
            "margin": null,
            "display": null,
            "left": null
          }
        },
        "2d38a61b8e3f4641ad4d65154ce618b7": {
          "model_module": "@jupyter-widgets/controls",
          "model_name": "DescriptionStyleModel",
          "model_module_version": "1.5.0",
          "state": {
            "_view_name": "StyleView",
            "_model_name": "DescriptionStyleModel",
            "description_width": "",
            "_view_module": "@jupyter-widgets/base",
            "_model_module_version": "1.5.0",
            "_view_count": null,
            "_view_module_version": "1.2.0",
            "_model_module": "@jupyter-widgets/controls"
          }
        },
        "b4da3a71221b4da0be7b2880273768b8": {
          "model_module": "@jupyter-widgets/base",
          "model_name": "LayoutModel",
          "model_module_version": "1.2.0",
          "state": {
            "_view_name": "LayoutView",
            "grid_template_rows": null,
            "right": null,
            "justify_content": null,
            "_view_module": "@jupyter-widgets/base",
            "overflow": null,
            "_model_module_version": "1.2.0",
            "_view_count": null,
            "flex_flow": null,
            "width": null,
            "min_width": null,
            "border": null,
            "align_items": null,
            "bottom": null,
            "_model_module": "@jupyter-widgets/base",
            "top": null,
            "grid_column": null,
            "overflow_y": null,
            "overflow_x": null,
            "grid_auto_flow": null,
            "grid_area": null,
            "grid_template_columns": null,
            "flex": null,
            "_model_name": "LayoutModel",
            "justify_items": null,
            "grid_row": null,
            "max_height": null,
            "align_content": null,
            "visibility": null,
            "align_self": null,
            "height": null,
            "min_height": null,
            "padding": null,
            "grid_auto_rows": null,
            "grid_gap": null,
            "max_width": null,
            "order": null,
            "_view_module_version": "1.2.0",
            "grid_template_areas": null,
            "object_position": null,
            "object_fit": null,
            "grid_auto_columns": null,
            "margin": null,
            "display": null,
            "left": null
          }
        }
      }
    }
  },
  "cells": [
    {
      "cell_type": "markdown",
      "metadata": {
        "id": "tktvdabC18-s"
      },
      "source": [
        "\n",
        "# Convolutional Neural Networks for Object Localization"
      ]
    },
    {
      "cell_type": "markdown",
      "metadata": {
        "id": "niJxVteL18-y"
      },
      "source": [
        "In this notebook we will learn how to implement a convolutional neural network (CNN) regressor to localize digits of the MNIST dataset. We will use the Pytorch library for the implementation, compilation and training of the model.\n",
        "\n",
        "The input to our model is a $64 \\times 64$ image with a MNIST digit at any location, and the output of the model are four real numbers that define a bounding box (x, y, width, and height) around the digit."
      ]
    },
    {
      "cell_type": "markdown",
      "metadata": {
        "id": "921un8bjnFV4"
      },
      "source": [
        "<table>\n",
        "    <tr>\n",
        "        <td><img src=\"data:image/png;base64, iVBORw0KGgoAAAANSUhEUgAAAGAAAABgCAIAAABt+uBvAAAACXBIWXMAAAsTAAALEwEAmpwYAAAAB3RJTUUH5QIKDjMZBb5zbwAABsxJREFUeNrt3NtvXEcdB/Dfb+acs3v26vWud+31LXFqO3FIGmJEAlUSQUnaCgVQG/WhQQgJXpF4APHCA38FUlF5Q0pBSKVSFFEEAZKSNHEuLThu2ji217d4116v93p8zpmZHw92LkXiMbsre75vqz3S7vloZs7vN6Nd/BaeA53/H6YJNJAG0kAaSANpIA2kgXQ0kAbSQBpIA2kgDaSBdDSQBtJAGkgDaSANpIF0NJAG0kAaSANpIA2kgTSQjgbSQBpIA2kgDaSBdleMNvouiID45JUKMiAAJGSEPoAAsjBoChMVAW0K05eMeQoU7UQgenpXj0k4BUNkBR5fAAvne0AqK+p3pOrWR8qcgMKZwPnjn30ztlRWzrsPj165N5i5PG8W3R0HxDkGLEIEjiLERRzIJCtAexMiHXGfDIjU6QhKgojHU07NsBsY2vcNZ/xU6Wi0eNsJ8UBYrHaAubTjphhJQtuL9ivLFEFeGglXj0vRKZLx+g8Gbr+emnYV37pQhD5hABuIswz+fmr41tjQT0Zuj8ceVMG5UPvq8lIyOQvcxec+75v6ax8iP505+Bac/9EH/VGZZJwQCAEQEIAhMfjCgsKZuDoz8KuLr1UqNnrEGdklaTTIXHNpbplWik8n6I4ZQUgAihRHNMBg/7vAKsC6MgQxRZg0HAWgBEFVYNVnHhGCrCl0yHAE+AqoCT5NBkI0Nuqbi2rSz8So1McrgCgUk4oBgIFqRYberh6410gV3Njl0d9U0HQXCsnfTgQb5hNKAiBAAPbsI28HrUHSXVsM3fjHoemhzUTG8Qr2ucGpQ+lHrjTu+R2T+Y7VPwXUkhfaXH17/Ey1B+cq5FignN1TBym/Mi3zFxLuXu5nyZ814DvuZ1+On+2avrHQ/5eJvvqFTTHrEbl/nBje7FNuyul0CwzkrgFCNDbq0ZvTsakQhoJQqFzs7X4nePhs1/TC/e5Pr+9Jl6c4eYBozj405yCCgJKgdWlFq0EAROC4UK6D8n2PbzoBBIoPllNfWuO23F5ciEBRa3UAgA/hWGs+WSnyfQDyMhEhrJfHc/UIBi13/ZOwW+HM9duk/2kd0HbzBdGcSP+rfO2H/a9EFr4dWPnz2kvFUtheySOo7Wt2L9BWYYQklYfl7n2JR8mhlUhPkQ6K+0cGq70DMmYF5yutNWp9N09SAkj/c1vWyAzXewfykWBnKRRXTmd8QyRASuItHErYLn8sQLRxbCR10vrpufcOZ9e7DG4Y4v25gz//3Zk9/1zDpaJaK+3OKfbM49/zeNFdz2emnOzdROrr4Udh7hu2uJPoEsq0SxykBCGaPJTaBgiA1TdpTTwqZBdFfD4cHI+WbSayPeV7HUkmOTomVRxq+LsXCBCBiDeqvOCySfNi+Hh10zo7PPVSdFmkaXIgzv9TpfwuHkFP66O6rwoN78r6AFs++b18WKnR+OqJdG6mMbY0EzGqtWYaGdBuQQQEYmR4LhNyq3e3UEa5xy0GvNmFddsAESEABW21/4X18ejKMfPIsWnLUlaDS6SrjZ4P8t0rf10KLLAmTzGj5S4AgKBkZ6bWz/ggHR6eiw0p3suyWBxlG4DAmecCL6mIxwWABKBdA4SIluWlg57F9p82xTh1Hqqe7b57wC5nUYLCDRm4WepurJm3cpnZBxFWKCOoZmwjth5o+9gHWTBe+lpvYSD24++/+2K4vi/ocCZMySQC5yonw+/MH5752xBdX+W3FslvQT3dAiA0TbRtEQ9AysoeLZ84NRlM4HhHudvwwkwgUM6PTLmJ3Ed9xXVZuOb5c6tsocIcakm30VQgNAxlA8+a0WSA9YbNvcbBV+fePHB/DzaE5BvKWnLD4PC7peSlQvbm718ML6/G7j60oA6ArerFnj8QAYACAASkSG/tVTP9y8rLsY9P2sUxowKeIQR3wQwY3vvVkfdyI3OXXjA+rKZuzGbpQwBGyJu86DQdKGipni5/GL0x/429H4eybNRqZGW52xUgDQDwDI8Z3s9ufXftOvE7Ttf855D3mOmQb7ZD+fHcgWTEKH+la8+J8pETy69lcnGAONGiCN0p9eRrMWSAM7VguX7pSrrzdinyoGrKCoGiVu+TNQ9I2FAYY6dHV3/RMwEEHGnWD191Oy8v7r82M8wC0PeHQvzftd78AwCQ22eB7aLTDCCj5GUuLczfcX+dHNi6/YoylqVdLzcylVlkYM04suIDQXvm+W+YESAoCcx/fILCABgQA8WBHh+Ttn7vuXWLNAIBYwCBrU34Z95Q0KYoX9ilAh0NpIE0kAbSQBpIA2kgHQ2kgTSQBtJAGkgDaSAdDaSBNFBz8l80JQQvIw+OLwAAAABJRU5ErkJggg==\"></td>\n",
        "        <td><span style=\"font-size:36px\">&#10142;</span></td>\n",
        "        <td><img src=\"data:image/png;base64, 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\"></td>\n",
        "    </tr>\n",
        "</table>"
      ]
    },
    {
      "cell_type": "markdown",
      "metadata": {
        "id": "exltrVHJnFV8"
      },
      "source": [
        "### Import necessary modules"
      ]
    },
    {
      "cell_type": "code",
      "metadata": {
        "id": "azXeT9WlnFWA"
      },
      "source": [
        "import torch\n",
        "import torch.nn as nn\n",
        "import torch.nn.functional as F\n",
        "import torch.optim as optim\n",
        "from torch.utils.data import Dataset, DataLoader\n",
        "from torchvision import datasets, transforms\n",
        "from torch.optim.lr_scheduler import StepLR\n",
        "\n",
        "import numpy as np\n",
        "import matplotlib.pyplot as plt\n",
        "\n",
        "# setup cuda\n",
        "use_cuda = torch.cuda.is_available()\n",
        "device = torch.device(\"cuda\" if use_cuda else \"cpu\")"
      ],
      "execution_count": null,
      "outputs": []
    },
    {
      "cell_type": "markdown",
      "metadata": {
        "id": "xJG-7PGF18-0"
      },
      "source": [
        "## Create a custom dataset"
      ]
    },
    {
      "cell_type": "markdown",
      "metadata": {
        "id": "1xicFSzH18-1"
      },
      "source": [
        "First of all we need a custom dataset class to create our training/test samples. This class creates synthetic images by placing MNIST numbers (wich have a size $28 \\times 28$) at random locations of a black $64 \\times 64$ canvas image."
      ]
    },
    {
      "cell_type": "code",
      "metadata": {
        "id": "RhvETBzY18-2"
      },
      "source": [
        "class MNISTlocalizationDataset(Dataset):\n",
        "    \"\"\"MNIST localization toy dataset.\"\"\"\n",
        "\n",
        "    def __init__(self, imgsize=(64,64), train=True, transform=None):\n",
        "        \"\"\"\n",
        "        Args:\n",
        "            imgsize (tuple (int,int), optional) - the size of generated images,\n",
        "                both width and height must be > 48\n",
        "            train (bool, optional) – If True, creates dataset from MNIST training\n",
        "                samples, otherwise from test\n",
        "            transform (callable, optional): Optional transform to be applied\n",
        "                on a sample.\n",
        "        \"\"\"\n",
        "        assert len(imgsize)==2 and imgsize[0] > 48 and imgsize[1] > 48\n",
        "        self.imgsize = imgsize\n",
        "        self.transform = transform\n",
        "        self.mnist = datasets.MNIST('../data', train=train, download=True)\n",
        "\n",
        "    def __len__(self):\n",
        "        return self.mnist.data.shape[0]\n",
        "\n",
        "    def __getitem__(self, idx):\n",
        "        if torch.is_tensor(idx):\n",
        "            idx = idx.tolist()\n",
        "        image = torch.zeros(self.imgsize)\n",
        "        digit_img = self.mnist.data[idx,:,:]\n",
        "\n",
        "        # copy the MNIST digit into a random location\n",
        "        x_offset = np.random.randint(0,self.imgsize[0]-28)\n",
        "        y_offset = np.random.randint(0,self.imgsize[1]-28)\n",
        "        image[y_offset:y_offset+28,x_offset:x_offset+28] = digit_img\n",
        "        image = image.reshape((1,)+self.imgsize) # must be a tensor image of size (C, H, W)\n",
        "        \n",
        "        if self.transform:\n",
        "            image = self.transform(image)\n",
        "\n",
        "        # normalize the target values so they are real numbers from 0. to 1.\n",
        "        bbox = np.array([x_offset / self.imgsize[0], y_offset / self.imgsize[1], \n",
        "                         28. / self.imgsize[0], 28. / self.imgsize[1]], dtype=np.float32)\n",
        "        sample = {'image': image, 'bbox': bbox}\n",
        "\n",
        "        return sample"
      ],
      "execution_count": null,
      "outputs": []
    },
    {
      "cell_type": "markdown",
      "metadata": {
        "id": "kE7Blf93nFWM"
      },
      "source": [
        "Now we can create the necessary Dataset and DataLoader objects as follows."
      ]
    },
    {
      "cell_type": "code",
      "metadata": {
        "colab": {
          "base_uri": "https://localhost:8080/",
          "height": 439,
          "referenced_widgets": [
            "4beabc67982a418782b350aee2919b6a",
            "00ca77345c0748c4b607836d55954bb3",
            "3e7e1fd0ef5a43d1bfaa9d628b53dd5c",
            "1ab865bab7f44c71bef67b3940e6de6f",
            "206704476e59456cb7f44655e868fc19",
            "7362df93ab8543c28e961e4d8b32435a",
            "f7217128aa864886aec3d96aff263f46",
            "2194df4f94ab46b1b4c683656881fc25",
            "2c84a981eb04450799f13d787a0e6862",
            "4d51af77db584ad28039ef3315a4432a",
            "4982a0bef9ea43c0b0ede4453c30a845",
            "7dfadcb367d24a9db66e1774c1cc22b8",
            "b6869f1c7c7a4aecb4121ecc8583af84",
            "8c2ef338d4ce463b85d34c9120ab766e",
            "283901a40d964450b5cce172ab049289",
            "e22de786704740b19ee5ad3c3c7c197a",
            "5d38dcfb5bae4915b60571d7b2fde098",
            "4aadaac888f44ac0b97a80e9afd13e72",
            "c0480d9fda344c7283da91266ef29633",
            "6e71edc183a3487d97196abf6ae79138",
            "d205efc085f1424095906d4a64ee241e",
            "eb1630a2377646f6a755abe3c19a94cd",
            "063b26f0edcc497b94356ae3eab58de7",
            "e044adba097e40bda4da0f06a187a20e",
            "7973ed24f5904ed7a91306bb47703b12",
            "82343baba5bc4f5b816b0049c32215ad",
            "743ed64e2a744ec3ab12d9c9737c33a2",
            "ef7960e0d84c4a8bb8366b62e3fc2e61",
            "96a3dcdf4f6c4ac2a061f3c594f04bee",
            "4d9ee1d3e53147c5894afa5a8585bf05",
            "c1181edb5e06433ab77585aa308d6a1c",
            "97332dd2cb9e4fa7ad4da7ff66df7213",
            "78c3d2835196485faea2c8da51d8d014",
            "7d4465503a6945808db471129f6c7aa1",
            "793c0b3ef1e545b8b944331cb7428b41",
            "26b9f5f7205042b9a02a62d20b8dd3f4",
            "93aca174086b4adab36fed7468503217",
            "62f044c793b14e1bb01bf3915478133f",
            "8f65b5d7ff4849018ec210f293a6ac12",
            "6bb27abad48942bca7458fcbc182c69d",
            "fa86070e11974c64b087424d088d8bbf",
            "ac65c72b35b7499eab1f6d5b88d42314",
            "2d38a61b8e3f4641ad4d65154ce618b7",
            "b4da3a71221b4da0be7b2880273768b8"
          ]
        },
        "id": "gfgAf0yunFWN",
        "outputId": "795ddc9a-fc11-4f70-9669-a68109795b48"
      },
      "source": [
        "transform=transforms.Compose([\n",
        "        transforms.Normalize((0.1307,), (0.3081,))\n",
        "        ])\n",
        "\n",
        "dataset1 = MNISTlocalizationDataset(train=True, transform=transform)\n",
        "dataset2 = MNISTlocalizationDataset(train=False, transform=transform)\n",
        "\n",
        "train_kwargs = {'batch_size': 64}\n",
        "test_kwargs  = {'batch_size': 1000}\n",
        "\n",
        "if use_cuda:\n",
        "    cuda_kwargs = {'num_workers': 1,\n",
        "                   'pin_memory': True,\n",
        "                   'shuffle': True}\n",
        "    train_kwargs.update(cuda_kwargs)\n",
        "    test_kwargs.update(cuda_kwargs)\n",
        "\n",
        "train_loader = DataLoader(dataset1, **train_kwargs)\n",
        "test_loader = DataLoader(dataset2, **test_kwargs)"
      ],
      "execution_count": null,
      "outputs": [
        {
          "output_type": "stream",
          "name": "stdout",
          "text": [
            "Downloading http://yann.lecun.com/exdb/mnist/train-images-idx3-ubyte.gz\n",
            "Downloading http://yann.lecun.com/exdb/mnist/train-images-idx3-ubyte.gz to ../data/MNIST/raw/train-images-idx3-ubyte.gz\n"
          ]
        },
        {
          "output_type": "display_data",
          "data": {
            "application/vnd.jupyter.widget-view+json": {
              "model_id": "4beabc67982a418782b350aee2919b6a",
              "version_minor": 0,
              "version_major": 2
            },
            "text/plain": [
              "  0%|          | 0/9912422 [00:00<?, ?it/s]"
            ]
          },
          "metadata": {}
        },
        {
          "output_type": "stream",
          "name": "stdout",
          "text": [
            "Extracting ../data/MNIST/raw/train-images-idx3-ubyte.gz to ../data/MNIST/raw\n",
            "\n",
            "Downloading http://yann.lecun.com/exdb/mnist/train-labels-idx1-ubyte.gz\n",
            "Downloading http://yann.lecun.com/exdb/mnist/train-labels-idx1-ubyte.gz to ../data/MNIST/raw/train-labels-idx1-ubyte.gz\n"
          ]
        },
        {
          "output_type": "display_data",
          "data": {
            "application/vnd.jupyter.widget-view+json": {
              "model_id": "7dfadcb367d24a9db66e1774c1cc22b8",
              "version_minor": 0,
              "version_major": 2
            },
            "text/plain": [
              "  0%|          | 0/28881 [00:00<?, ?it/s]"
            ]
          },
          "metadata": {}
        },
        {
          "output_type": "stream",
          "name": "stdout",
          "text": [
            "Extracting ../data/MNIST/raw/train-labels-idx1-ubyte.gz to ../data/MNIST/raw\n",
            "\n",
            "Downloading http://yann.lecun.com/exdb/mnist/t10k-images-idx3-ubyte.gz\n",
            "Downloading http://yann.lecun.com/exdb/mnist/t10k-images-idx3-ubyte.gz to ../data/MNIST/raw/t10k-images-idx3-ubyte.gz\n"
          ]
        },
        {
          "output_type": "display_data",
          "data": {
            "application/vnd.jupyter.widget-view+json": {
              "model_id": "063b26f0edcc497b94356ae3eab58de7",
              "version_minor": 0,
              "version_major": 2
            },
            "text/plain": [
              "  0%|          | 0/1648877 [00:00<?, ?it/s]"
            ]
          },
          "metadata": {}
        },
        {
          "output_type": "stream",
          "name": "stdout",
          "text": [
            "Extracting ../data/MNIST/raw/t10k-images-idx3-ubyte.gz to ../data/MNIST/raw\n",
            "\n",
            "Downloading http://yann.lecun.com/exdb/mnist/t10k-labels-idx1-ubyte.gz\n",
            "Downloading http://yann.lecun.com/exdb/mnist/t10k-labels-idx1-ubyte.gz to ../data/MNIST/raw/t10k-labels-idx1-ubyte.gz\n"
          ]
        },
        {
          "output_type": "display_data",
          "data": {
            "application/vnd.jupyter.widget-view+json": {
              "model_id": "7d4465503a6945808db471129f6c7aa1",
              "version_minor": 0,
              "version_major": 2
            },
            "text/plain": [
              "  0%|          | 0/4542 [00:00<?, ?it/s]"
            ]
          },
          "metadata": {}
        },
        {
          "output_type": "stream",
          "name": "stdout",
          "text": [
            "Extracting ../data/MNIST/raw/t10k-labels-idx1-ubyte.gz to ../data/MNIST/raw\n",
            "\n"
          ]
        }
      ]
    },
    {
      "cell_type": "markdown",
      "metadata": {
        "id": "mS-cmCLP18-2"
      },
      "source": [
        "### Visualize some generated samples"
      ]
    },
    {
      "cell_type": "code",
      "metadata": {
        "colab": {
          "base_uri": "https://localhost:8080/",
          "height": 195
        },
        "id": "4aAtRuL-18-2",
        "outputId": "87b857a1-f947-4b31-bb09-b97525975a19"
      },
      "source": [
        "def show_bbox(image, bbox, pred=None):\n",
        "    \"\"\"Show image with bbox\"\"\"\n",
        "    image = image.squeeze()\n",
        "    plt.imshow(image)\n",
        "\n",
        "    # plot the ground truth bounding box\n",
        "    imgsize = image.shape\n",
        "    bbox *= [imgsize[0],imgsize[1],imgsize[0],imgsize[1]]\n",
        "    plt.plot([bbox[0],bbox[0]+bbox[2],bbox[0]+bbox[2],bbox[0],bbox[0]],\n",
        "             [bbox[1],bbox[1],bbox[1]+bbox[3],bbox[1]+bbox[3],bbox[1]], c='r')\n",
        "\n",
        "    if pred is not None: \n",
        "        # plot the predicted bounding box (if provided)\n",
        "        pred *= [imgsize[0],imgsize[1],imgsize[0],imgsize[1]]\n",
        "        plt.plot([pred[0],pred[0]+pred[2],pred[0]+pred[2],pred[0],pred[0]],\n",
        "                 [pred[1],pred[1],pred[1]+pred[3],pred[1]+pred[3],pred[1]], c='b')\n",
        "    \n",
        "    \n",
        " \n",
        "fig = plt.figure()\n",
        "for i in range(len(dataset1)):\n",
        "    sample = dataset1[i]\n",
        "    print(i, sample['image'].shape, sample['bbox'].shape)\n",
        "    ax = plt.subplot(1, 4, i + 1)\n",
        "    plt.tight_layout()\n",
        "    ax.set_title('Sample #{}'.format(i))\n",
        "    ax.axis('off')\n",
        "    show_bbox(**sample)\n",
        "\n",
        "    if i == 3:\n",
        "        plt.show()\n",
        "        break"
      ],
      "execution_count": null,
      "outputs": [
        {
          "output_type": "stream",
          "name": "stdout",
          "text": [
            "0 torch.Size([1, 64, 64]) (4,)\n",
            "1 torch.Size([1, 64, 64]) (4,)\n",
            "2 torch.Size([1, 64, 64]) (4,)\n",
            "3 torch.Size([1, 64, 64]) (4,)\n"
          ]
        },
        {
          "output_type": "display_data",
          "data": {
            "image/png": "[encoded data removed]",
            "text/plain": [
              "<Figure size 432x288 with 4 Axes>"
            ]
          },
          "metadata": {
            "needs_background": "light"
          }
        }
      ]
    },
    {
      "cell_type": "code",
      "metadata": {
        "colab": {
          "base_uri": "https://localhost:8080/"
        },
        "id": "aszWIV0m18-5",
        "outputId": "a25aac0f-437d-45aa-902f-26da8f75ea9f"
      },
      "source": [
        "# check the size of the dataset\n",
        "print(\"Size of training data: {}\".format(len(dataset1)))\n",
        "print(\"Size of test data: {}\".format(len(dataset2)))"
      ],
      "execution_count": null,
      "outputs": [
        {
          "output_type": "stream",
          "name": "stdout",
          "text": [
            "Size of training data: 60000\n",
            "Size of test data: 10000\n"
          ]
        }
      ]
    },
    {
      "cell_type": "markdown",
      "metadata": {
        "id": "gmOpSBhE18-3"
      },
      "source": [
        "We have 60,000 images for training and 10,000 for testing. The image size is $64 \\times 64$ pixels and they have only one channel (greyscale images)."
      ]
    },
    {
      "cell_type": "markdown",
      "metadata": {
        "id": "DyLPtyuE18-7"
      },
      "source": [
        "## Create the CNN regression model\n",
        "\n",
        "We will use a simple CNN model with two convolutional layers, one pooling layer, and two fully connected layers. We will use also Dropout to help regularizing the model. \n",
        "\n",
        "Notice that the output layer has four neurons with a `sigmoid` activation, so our model produces at its outputs four real numbers (x,y,width, and height)."
      ]
    },
    {
      "cell_type": "code",
      "metadata": {
        "id": "ind1Flc-18-7"
      },
      "source": [
        "class Net(nn.Module):\n",
        "    def __init__(self):\n",
        "        super(Net, self).__init__()\n",
        "        self.conv1 = nn.Conv2d(1, 32, 3, 1)\n",
        "        self.conv2 = nn.Conv2d(32, 64, 3, 1)\n",
        "        self.dropout1 = nn.Dropout(0.25)\n",
        "        self.dropout2 = nn.Dropout(0.5)\n",
        "        self.fc1 = nn.Linear(57600, 256)\n",
        "        self.fc2 = nn.Linear(256, 4)\n",
        "\n",
        "    def forward(self, x):\n",
        "        x = self.conv1(x)\n",
        "        x = F.relu(x)\n",
        "        x = self.conv2(x)\n",
        "        x = F.relu(x)\n",
        "        x = F.max_pool2d(x, 2)\n",
        "        x = self.dropout1(x)\n",
        "        x = torch.flatten(x, 1)\n",
        "        x = self.fc1(x)\n",
        "        x = F.sigmoid(x)\n",
        "        x = self.dropout2(x)\n",
        "        x = self.fc2(x)\n",
        "        output = F.sigmoid(x)\n",
        "        return output"
      ],
      "execution_count": null,
      "outputs": []
    },
    {
      "cell_type": "markdown",
      "metadata": {
        "id": "ndYgcQkW18-8"
      },
      "source": [
        "### Define the training method\n",
        "\n",
        "For training our CNN regression model we will use the L1 loss, which takes the mean element-wise absolute value difference.\n",
        "\n",
        "See <a href=\"https://pytorch.org/docs/stable/generated/torch.nn.L1Loss.html#torch.nn.L1Loss\">`torch.nn.L1Loss`</a> for details."
      ]
    },
    {
      "cell_type": "code",
      "metadata": {
        "id": "u2LLkt5218-8"
      },
      "source": [
        "def train(model, device, train_loader, optimizer, epoch):\n",
        "    model.train()\n",
        "    loss_values = []\n",
        "    for batch_idx, sample_batched in enumerate(train_loader):\n",
        "        data = sample_batched['image']\n",
        "        target = sample_batched['bbox']\n",
        "        data, target = data.to(device), target.to(device)\n",
        "        optimizer.zero_grad()\n",
        "        output = model(data)\n",
        "        loss = F.l1_loss(output, target)\n",
        "        loss_values.append(loss.cpu().detach().numpy())\n",
        "        loss.backward()\n",
        "        optimizer.step()\n",
        "        if batch_idx % log_interval == 0:\n",
        "            print('Train Epoch: {} [{}/{} ({:.0f}%)]\\tLoss: {:.6f}'.format(\n",
        "                epoch, batch_idx * len(data), len(train_loader.dataset),\n",
        "                100. * batch_idx / len(train_loader), loss.item()))\n",
        "    return loss_values"
      ],
      "execution_count": null,
      "outputs": []
    },
    {
      "cell_type": "markdown",
      "metadata": {
        "id": "oOvIRgNG18-8"
      },
      "source": [
        "### Train the model"
      ]
    },
    {
      "cell_type": "code",
      "metadata": {
        "colab": {
          "base_uri": "https://localhost:8080/"
        },
        "id": "7yGqDf0w18-9",
        "outputId": "cf74f47f-d3e6-4ab8-d9f9-e58534032f7a"
      },
      "source": [
        "model = Net().to(device)\n",
        "\n",
        "lr = 1.0\n",
        "optimizer = optim.Adadelta(model.parameters(), lr=lr)\n",
        "\n",
        "epochs = 5\n",
        "lr_gamma = 0.7 # Learning rate step gamma\n",
        "scheduler = StepLR(optimizer, step_size=1, gamma=lr_gamma)\n",
        "\n",
        "log_interval = 100 # how many batches to wait before logging training status\n",
        "\n",
        "loss_history = []\n",
        "for epoch in range(1, epochs + 1):\n",
        "    loss_values = train(model, device, train_loader, optimizer, epoch)\n",
        "    loss_history += loss_values\n",
        "    scheduler.step()"
      ],
      "execution_count": null,
      "outputs": [
        {
          "output_type": "stream",
          "name": "stderr",
          "text": [
            "/usr/local/lib/python3.7/dist-packages/torch/nn/functional.py:1806: UserWarning: nn.functional.sigmoid is deprecated. Use torch.sigmoid instead.\n",
            "  warnings.warn(\"nn.functional.sigmoid is deprecated. Use torch.sigmoid instead.\")\n"
          ]
        },
        {
          "output_type": "stream",
          "name": "stdout",
          "text": [
            "Train Epoch: 1 [0/60000 (0%)]\tLoss: 0.199161\n",
            "Train Epoch: 1 [6400/60000 (11%)]\tLoss: 0.064402\n",
            "Train Epoch: 1 [12800/60000 (21%)]\tLoss: 0.063323\n",
            "Train Epoch: 1 [19200/60000 (32%)]\tLoss: 0.055266\n",
            "Train Epoch: 1 [25600/60000 (43%)]\tLoss: 0.049038\n",
            "Train Epoch: 1 [32000/60000 (53%)]\tLoss: 0.045871\n",
            "Train Epoch: 1 [38400/60000 (64%)]\tLoss: 0.044501\n",
            "Train Epoch: 1 [44800/60000 (75%)]\tLoss: 0.040316\n",
            "Train Epoch: 1 [51200/60000 (85%)]\tLoss: 0.047010\n",
            "Train Epoch: 1 [57600/60000 (96%)]\tLoss: 0.041078\n",
            "Train Epoch: 2 [0/60000 (0%)]\tLoss: 0.047483\n",
            "Train Epoch: 2 [6400/60000 (11%)]\tLoss: 0.027697\n",
            "Train Epoch: 2 [12800/60000 (21%)]\tLoss: 0.028036\n",
            "Train Epoch: 2 [19200/60000 (32%)]\tLoss: 0.030401\n",
            "Train Epoch: 2 [25600/60000 (43%)]\tLoss: 0.031880\n",
            "Train Epoch: 2 [32000/60000 (53%)]\tLoss: 0.027542\n",
            "Train Epoch: 2 [38400/60000 (64%)]\tLoss: 0.027245\n",
            "Train Epoch: 2 [44800/60000 (75%)]\tLoss: 0.028067\n",
            "Train Epoch: 2 [51200/60000 (85%)]\tLoss: 0.027982\n",
            "Train Epoch: 2 [57600/60000 (96%)]\tLoss: 0.024417\n",
            "Train Epoch: 3 [0/60000 (0%)]\tLoss: 0.023189\n",
            "Train Epoch: 3 [6400/60000 (11%)]\tLoss: 0.026681\n",
            "Train Epoch: 3 [12800/60000 (21%)]\tLoss: 0.023650\n",
            "Train Epoch: 3 [19200/60000 (32%)]\tLoss: 0.023110\n",
            "Train Epoch: 3 [25600/60000 (43%)]\tLoss: 0.020782\n",
            "Train Epoch: 3 [32000/60000 (53%)]\tLoss: 0.019843\n",
            "Train Epoch: 3 [38400/60000 (64%)]\tLoss: 0.020580\n",
            "Train Epoch: 3 [44800/60000 (75%)]\tLoss: 0.020682\n",
            "Train Epoch: 3 [51200/60000 (85%)]\tLoss: 0.021902\n",
            "Train Epoch: 3 [57600/60000 (96%)]\tLoss: 0.022675\n",
            "Train Epoch: 4 [0/60000 (0%)]\tLoss: 0.021486\n",
            "Train Epoch: 4 [6400/60000 (11%)]\tLoss: 0.016499\n",
            "Train Epoch: 4 [12800/60000 (21%)]\tLoss: 0.018305\n",
            "Train Epoch: 4 [19200/60000 (32%)]\tLoss: 0.015390\n",
            "Train Epoch: 4 [25600/60000 (43%)]\tLoss: 0.016438\n",
            "Train Epoch: 4 [32000/60000 (53%)]\tLoss: 0.015311\n",
            "Train Epoch: 4 [38400/60000 (64%)]\tLoss: 0.017651\n",
            "Train Epoch: 4 [44800/60000 (75%)]\tLoss: 0.016898\n",
            "Train Epoch: 4 [51200/60000 (85%)]\tLoss: 0.017252\n",
            "Train Epoch: 4 [57600/60000 (96%)]\tLoss: 0.017088\n",
            "Train Epoch: 5 [0/60000 (0%)]\tLoss: 0.018807\n",
            "Train Epoch: 5 [6400/60000 (11%)]\tLoss: 0.015032\n",
            "Train Epoch: 5 [12800/60000 (21%)]\tLoss: 0.015742\n",
            "Train Epoch: 5 [19200/60000 (32%)]\tLoss: 0.015330\n",
            "Train Epoch: 5 [25600/60000 (43%)]\tLoss: 0.014613\n",
            "Train Epoch: 5 [32000/60000 (53%)]\tLoss: 0.013321\n",
            "Train Epoch: 5 [38400/60000 (64%)]\tLoss: 0.014397\n",
            "Train Epoch: 5 [44800/60000 (75%)]\tLoss: 0.016929\n",
            "Train Epoch: 5 [51200/60000 (85%)]\tLoss: 0.016184\n",
            "Train Epoch: 5 [57600/60000 (96%)]\tLoss: 0.016288\n"
          ]
        }
      ]
    },
    {
      "cell_type": "markdown",
      "metadata": {
        "id": "mIMOMKRh18--"
      },
      "source": [
        "### Plot the loss over time"
      ]
    },
    {
      "cell_type": "code",
      "metadata": {
        "id": "Jb2ocuvo18--",
        "colab": {
          "base_uri": "https://localhost:8080/",
          "height": 283
        },
        "outputId": "c6a46999-72d0-40d8-9e9d-9ab2c4b44489"
      },
      "source": [
        "plt.plot(np.arange(len(loss_history)), loss_history)"
      ],
      "execution_count": null,
      "outputs": [
        {
          "output_type": "execute_result",
          "data": {
            "text/plain": [
              "[<matplotlib.lines.Line2D at 0x7f9c69721d10>]"
            ]
          },
          "metadata": {},
          "execution_count": 15
        },
        {
          "output_type": "display_data",
          "data": {
            "image/png": "[encoded data removed]",
            "text/plain": [
              "<Figure size 432x288 with 1 Axes>"
            ]
          },
          "metadata": {
            "needs_background": "light"
          }
        }
      ]
    },
    {
      "cell_type": "markdown",
      "metadata": {
        "id": "5tWPmXhk18--"
      },
      "source": [
        "## Evaluate the model\n",
        "\n",
        "Finally, we can use the trained model to predict a bounding box for any given image. Let's see how to make predictions for the first four images of the test set."
      ]
    },
    {
      "cell_type": "code",
      "metadata": {
        "colab": {
          "base_uri": "https://localhost:8080/",
          "height": 159
        },
        "id": "JMecAtU618--",
        "outputId": "9aeed5f3-5c44-4f6d-b6ce-a9d9acc86280"
      },
      "source": [
        "model.eval()\n",
        "\n",
        "fig = plt.figure()\n",
        "for i in range(len(dataset1)):\n",
        "    sample = dataset1[i]\n",
        "    ax = plt.subplot(1, 4, i + 1)\n",
        "    plt.tight_layout()\n",
        "    ax.set_title('Sample #{}'.format(i))\n",
        "    ax.axis('off')\n",
        "    \n",
        "    # predict the bounding box for a given image\n",
        "    data = sample['image']\n",
        "    data = data.reshape((1,)+data.shape) # shape must be (b,c,h,w)\n",
        "    data = data.to(device)\n",
        "    with torch.no_grad():\n",
        "        output = model(data)\n",
        "        \n",
        "    sample['pred'] = output[0].cpu().numpy()\n",
        "    show_bbox(**sample)\n",
        "\n",
        "    if i == 3:\n",
        "        plt.show()\n",
        "        break"
      ],
      "execution_count": null,
      "outputs": [
        {
          "output_type": "stream",
          "name": "stderr",
          "text": [
            "/usr/local/lib/python3.7/dist-packages/torch/nn/functional.py:1806: UserWarning: nn.functional.sigmoid is deprecated. Use torch.sigmoid instead.\n",
            "  warnings.warn(\"nn.functional.sigmoid is deprecated. Use torch.sigmoid instead.\")\n"
          ]
        },
        {
          "output_type": "display_data",
          "data": {
            "image/png": "[encoded data removed]",
            "text/plain": [
              "<Figure size 432x288 with 4 Axes>"
            ]
          },
          "metadata": {
            "needs_background": "light"
          }
        }
      ]
    },
    {
      "cell_type": "markdown",
      "metadata": {
        "id": "xIulY-aDnFWx"
      },
      "source": [
        "We appreciate that the predicted bounding boxes (blue) are good aproximations of the ground truth (red).\n",
        "\n",
        "In order to measure whether the results are correct or not in the entire test set we need to implement a performance measure based on the Intersection over Union (IoU) of the ground truth and predicted bounding boxes."
      ]
    },
    {
      "cell_type": "code",
      "metadata": {
        "id": "mQAjMYu0nFWz"
      },
      "source": [
        "def IoU(pred, target, iou_threshold = 0.7):\n",
        "    # determine the coordinates of the intersection rectangle\n",
        "    x_left = np.maximum(pred[:,0], target[:,0])\n",
        "    y_top = np.maximum(pred[:,1], target[:,1])\n",
        "    x_right = np.minimum(pred[:,0]+pred[:,2], target[:,0]+target[:,2])\n",
        "    y_bottom = np.minimum(pred[:,1]+pred[:,3], target[:,1]+target[:,3])\n",
        "    \n",
        "    intersection_area = (x_right - x_left) * (y_bottom - y_top)\n",
        "    \n",
        "    # compute the areas of the union\n",
        "    pred_area = pred[:,2] * pred[:,3]\n",
        "    target_area =  target[:,2] *  target[:,3]\n",
        "    \n",
        "    union_area = pred_area + target_area - intersection_area\n",
        "    \n",
        "    iou = intersection_area / union_area\n",
        "    \n",
        "    return iou>iou_threshold"
      ],
      "execution_count": null,
      "outputs": []
    },
    {
      "cell_type": "markdown",
      "metadata": {
        "id": "e-eALiMsnFW1"
      },
      "source": [
        "### Define the test method"
      ]
    },
    {
      "cell_type": "code",
      "metadata": {
        "colab": {
          "base_uri": "https://localhost:8080/"
        },
        "id": "mGRtscbXnFW2",
        "outputId": "8ec36d38-27a8-4213-eb0c-3dfbce0717f6"
      },
      "source": [
        "def test(model, device, test_loader):\n",
        "    model.eval()\n",
        "    test_loss = 0\n",
        "    correct = 0\n",
        "    with torch.no_grad():\n",
        "        for batch_idx, sample_batched in enumerate(test_loader):\n",
        "            data = sample_batched['image']\n",
        "            target = sample_batched['bbox']\n",
        "            data, target = data.to(device), target.to(device)\n",
        "            output = model(data)\n",
        "            test_loss += F.l1_loss(output, target).item()\n",
        "            \n",
        "            # count the number of prediction with an IoU above a certain threshold\n",
        "            correct += np.sum(IoU(output.cpu().numpy(), target.cpu().numpy(), iou_threshold = 0.7))\n",
        "\n",
        "    test_loss /= (len(test_loader.dataset)/test_loader.batch_size)\n",
        "\n",
        "    print('\\nTest set: Average loss: {:.4f}, Accuracy: {}/{} ({:.0f}%)\\n'.format(\n",
        "        test_loss, correct, len(test_loader.dataset),\n",
        "        100. * correct / len(test_loader.dataset)))\n",
        "    \n",
        "\n",
        "# call the test method\n",
        "test(model, device, test_loader)"
      ],
      "execution_count": null,
      "outputs": [
        {
          "output_type": "stream",
          "name": "stderr",
          "text": [
            "/usr/local/lib/python3.7/dist-packages/torch/nn/functional.py:1806: UserWarning: nn.functional.sigmoid is deprecated. Use torch.sigmoid instead.\n",
            "  warnings.warn(\"nn.functional.sigmoid is deprecated. Use torch.sigmoid instead.\")\n"
          ]
        },
        {
          "output_type": "stream",
          "name": "stdout",
          "text": [
            "\n",
            "Test set: Average loss: 0.0083, Accuracy: 9999/10000 (100%)\n",
            "\n"
          ]
        }
      ]
    },
    {
      "cell_type": "code",
      "metadata": {
        "scrolled": true,
        "colab": {
          "base_uri": "https://localhost:8080/",
          "height": 323
        },
        "id": "MFi3JR4OnFW5",
        "outputId": "af776b5a-751e-4bee-fb03-8626a9e9f787"
      },
      "source": [
        "# Find wrong prediction and display it\n",
        "\n",
        "model.eval()\n",
        "\n",
        "fig = plt.figure()\n",
        "plt.tight_layout()\n",
        "ax.axis('off')\n",
        "\n",
        "for i in range(len(dataset2)):\n",
        "    sample = dataset2[i]\n",
        "    \n",
        "    # predict the bounding box for a given image\n",
        "    data = sample['image']\n",
        "    data = data.reshape((1,)+data.shape) # shape must be (b,c,h,w)\n",
        "    data = data.to(device)\n",
        "    with torch.no_grad():\n",
        "        output = model(data)\n",
        "    \n",
        "    target = sample['bbox'].reshape((1,4))\n",
        "    iou= IoU(output.cpu().numpy(), target, iou_threshold = 0.7)\n",
        "    \n",
        "    if not iou:\n",
        "        print(output.cpu().numpy(), target,iou)\n",
        "        sample['pred'] = output[0].cpu().numpy()\n",
        "        show_bbox(**sample)\n",
        "        break\n",
        "\n",
        "plt.show()\n",
        "\n"
      ],
      "execution_count": null,
      "outputs": [
        {
          "output_type": "stream",
          "name": "stderr",
          "text": [
            "/usr/local/lib/python3.7/dist-packages/torch/nn/functional.py:1806: UserWarning: nn.functional.sigmoid is deprecated. Use torch.sigmoid instead.\n",
            "  warnings.warn(\"nn.functional.sigmoid is deprecated. Use torch.sigmoid instead.\")\n"
          ]
        },
        {
          "output_type": "stream",
          "name": "stdout",
          "text": [
            "[[0.08821405 0.06656253 0.44615856 0.4458905 ]] [[0.03125  0.046875 0.4375   0.4375  ]] [False]\n"
          ]
        },
        {
          "output_type": "display_data",
          "data": {
            "image/png": "[encoded data removed]",
            "text/plain": [
              "<Figure size 432x288 with 1 Axes>"
            ]
          },
          "metadata": {
            "needs_background": "light"
          }
        }
      ]
    },
    {
      "cell_type": "markdown",
      "metadata": {
        "id": "xuzop7NV18--"
      },
      "source": [
        "\n",
        "### EXERCISES\n",
        "\n",
        "* Modify the model adding a classification output, so that it can jointly predict the bounding box of the digit and also its class label. This implies you will need to modify the Dataset class to produce the ground truth for classification (one-hot vector), and your training method by adding a new loss for the classification output.\n",
        "\n",
        "* Modify the model so it can also detect if an input image contains no digit. For this you must add another regression output for the digit confidence (a value between 0. and 1. indicating the presence of a digit). This implies you will need to modify the Dataset class to generate images without digits. Also, during training you must take care of not backpropagating the bounding box and classification losses when there is no digit."
      ]
    },
    {
      "cell_type": "code",
      "metadata": {
        "id": "kvhj73UX18--"
      },
      "source": [
        ""
      ],
      "execution_count": null,
      "outputs": []
    }
  ]
}